{
 "cells": [
  {
   "cell_type": "markdown",
   "id": "210bb436",
   "metadata": {
    "id": "210bb436"
   },
   "source": [
    "# Homework 1: Linear Models for Regression and Classification"
   ]
  },
  {
   "cell_type": "code",
   "execution_count": null,
   "id": "e27c90a6",
   "metadata": {
    "id": "e27c90a6"
   },
   "outputs": [],
   "source": [
    "import numpy as np\n",
    "import pandas as pd\n",
    "import seaborn as sns\n",
    "import matplotlib.pyplot as plt\n",
    "from numpy.linalg import inv\n",
    "from sklearn.datasets import load_boston\n",
    "%matplotlib inline\n",
    "from sklearn.model_selection import train_test_split\n",
    "from sklearn.preprocessing import StandardScaler, MinMaxScaler\n",
    "from sklearn.preprocessing import OrdinalEncoder\n",
    "from sklearn.svm import LinearSVC, SVC\n",
    "from sklearn.metrics import accuracy_score"
   ]
  },
  {
   "cell_type": "code",
   "execution_count": null,
   "id": "b6a7879a",
   "metadata": {
    "id": "b6a7879a"
   },
   "outputs": [],
   "source": [
    "import warnings\n",
    "\n",
    "def fxn():\n",
    "    warnings.warn(\"deprecated\", DeprecationWarning)\n",
    "\n",
    "with warnings.catch_warnings():\n",
    "    warnings.simplefilter(\"ignore\")\n",
    "    fxn()"
   ]
  },
  {
   "cell_type": "code",
   "execution_count": null,
   "id": "dec72e60",
   "metadata": {
    "id": "dec72e60"
   },
   "outputs": [],
   "source": [
    "pd.options.mode.chained_assignment = None"
   ]
  },
  {
   "cell_type": "markdown",
   "id": "5bdb2d5a",
   "metadata": {
    "id": "5bdb2d5a"
   },
   "source": [
    "## Part 1: Linear Regression"
   ]
  },
  {
   "cell_type": "markdown",
   "id": "86aea694",
   "metadata": {
    "id": "86aea694"
   },
   "source": [
    "In part 1, we will use two datasets to train and evaluate our linear regression model.\n",
    "\n",
    "The first dataset will be a synthetic dataset sampled from the following equations:\n",
    "   \n",
    "𝜖 ∼ Normal(0,3)\n",
    "\n",
    "z = 3𝑥 + 10y + 𝜖"
   ]
  },
  {
   "cell_type": "code",
   "execution_count": null,
   "id": "4b1775f9",
   "metadata": {
    "id": "4b1775f9"
   },
   "outputs": [],
   "source": [
    "np.random.seed(0)\n",
    "epsilon = np.random.normal(0, 3, 100)   # Sample epsilon from a Normal distribution\n",
    "x = np.linspace(0, 10, 100) # Sample x evenly between 0 and 10\n",
    "y = np.linspace(0, 5, 100) # Sample z evenly between 10 and 0\n",
    "z = 3 * x + 5 * y + 10 + epsilon"
   ]
  },
  {
   "cell_type": "markdown",
   "id": "9f9c1a48",
   "metadata": {
    "id": "9f9c1a48"
   },
   "source": [
    "To apply linear regression, we need to first check if the assumptions of linear regression are not violated.\n",
    "\n",
    "Assumptions of Linear Regression:\n",
    "\n",
    "- Linearity: $y$ is a linear (technically affine) function of $x$.\n",
    "- Independence: the $x$'s are independently drawn, and not dependent on each other.\n",
    "- Homoscedasticity: the $\\epsilon$'s, and thus the $y$'s, have constant variance.\n",
    "- Normality: the $\\epsilon$'s are drawn from a Normal distribution (i.e. Normally-distributed errors)\n",
    "\n",
    "These properties, as well as the simplicity of this dataset, will make it a good test case to check if our linear regression model is working properly."
   ]
  },
  {
   "cell_type": "markdown",
   "id": "2be3e924",
   "metadata": {
    "id": "2be3e924"
   },
   "source": [
    "**1.1. Plot z vs x and z vs y in the synthetic dataset as scatter plots. Label your axes and make sure your y-axis starts from 0. Do the independent and dependent features have linear relationship?**"
   ]
  },
  {
   "cell_type": "code",
   "execution_count": null,
   "id": "c5145cad",
   "metadata": {
    "id": "c5145cad",
    "outputId": "3e559261-4cd1-4b09-81ad-2b32a3e5479d"
   },
   "outputs": [
    {
     "data": {
      "image/png": "[encoded data removed]",
      "text/plain": [
       "<Figure size 648x360 with 1 Axes>"
      ]
     },
     "metadata": {
      "needs_background": "light"
     },
     "output_type": "display_data"
    }
   ],
   "source": [
    "### Your code here\n",
    "plt.figure(figsize = (9,5))\n",
    "plt.scatter(x,z)\n",
    "plt.title('z vs x',fontsize = 18)\n",
    "plt.xlabel('x',fontsize = 15)\n",
    "plt.ylabel('z',fontsize = 15)\n",
    "plt.show()"
   ]
  },
  {
   "cell_type": "code",
   "execution_count": null,
   "id": "94433e8e",
   "metadata": {
    "id": "94433e8e",
    "outputId": "ea5292dd-b785-4c43-ba02-1ff5538a4c21"
   },
   "outputs": [
    {
     "data": {
      "image/png": "[encoded data removed]",
      "text/plain": [
       "<Figure size 648x360 with 1 Axes>"
      ]
     },
     "metadata": {
      "needs_background": "light"
     },
     "output_type": "display_data"
    }
   ],
   "source": [
    "plt.figure(figsize = (9,5))\n",
    "plt.scatter(x,z)\n",
    "plt.title('z vs x',fontsize = 18)\n",
    "plt.xlabel('x',fontsize = 15)\n",
    "plt.ylabel('z',fontsize = 15)\n",
    "plt.show()"
   ]
  },
  {
   "cell_type": "markdown",
   "id": "08b05658",
   "metadata": {
    "id": "08b05658"
   },
   "source": [
    "Both follow linear relationship"
   ]
  },
  {
   "cell_type": "markdown",
   "id": "0dbb473b",
   "metadata": {
    "id": "0dbb473b"
   },
   "source": [
    "**1.2. Are the independent variables correlated? Use pearson correlation to verify? What would be the problem if linear regression is applied to correlated features?**"
   ]
  },
  {
   "cell_type": "code",
   "execution_count": null,
   "id": "445ba11c",
   "metadata": {
    "id": "445ba11c",
    "outputId": "bd4a31a0-116f-4ebc-e2d1-1552240d411c"
   },
   "outputs": [
    {
     "name": "stdout",
     "output_type": "stream",
     "text": [
      "Pearsons correlation: 1.000\n"
     ]
    }
   ],
   "source": [
    "from scipy.stats import pearsonr\n",
    "corr, _ = pearsonr(y, x)\n",
    "print('Pearsons correlation: %.3f' % corr)"
   ]
  },
  {
   "cell_type": "markdown",
   "id": "75db5ca6",
   "metadata": {
    "id": "75db5ca6"
   },
   "source": [
    "The parameter associated with a independent feature is estimated by linear regression by assumpting that the other features are constant. To put it in simple terms, the parameter of x will give the value how much value of z will increase on unit increase of x keeping y constant. If this assumption is violated, it affects the variance associated with the prediction as the quality of the interpretation of the independent variables is reduced. One imporatnt thing to note is the accuracy, doesn't go down but we are no longer sure of on how the model takes the inputs to produce the output. "
   ]
  },
  {
   "cell_type": "markdown",
   "id": "d57cd121",
   "metadata": {
    "id": "d57cd121"
   },
   "source": [
    "The second dataset we will be using is an auto MPG dataset. This dataset contains various characteristics for around 8128 cars. We will use linear regression to predict the selling_price label,"
   ]
  },
  {
   "cell_type": "code",
   "execution_count": null,
   "id": "81653198",
   "metadata": {
    "id": "81653198"
   },
   "outputs": [],
   "source": [
    "auto_mpg_df = pd.read_csv('Car details v3.csv')\n",
    "# Dropping Torque column, there is information in this column but it will take some preprocessing, the idea of the \n",
    "# exercise is to familarize yourself with the basics of Linear regression.\n",
    "auto_mpg_df = auto_mpg_df.drop(['torque'], axis = 1)\n"
   ]
  },
  {
   "cell_type": "code",
   "execution_count": null,
   "id": "d01532cf",
   "metadata": {
    "id": "d01532cf",
    "outputId": "cc3d8ff6-984d-419e-95d1-0d791e3e81ea"
   },
   "outputs": [
    {
     "data": {
      "text/html": [
       "<div>\n",
       "<style scoped>\n",
       "    .dataframe tbody tr th:only-of-type {\n",
       "        vertical-align: middle;\n",
       "    }\n",
       "\n",
       "    .dataframe tbody tr th {\n",
       "        vertical-align: top;\n",
       "    }\n",
       "\n",
       "    .dataframe thead th {\n",
       "        text-align: right;\n",
       "    }\n",
       "</style>\n",
       "<table border=\"1\" class=\"dataframe\">\n",
       "  <thead>\n",
       "    <tr style=\"text-align: right;\">\n",
       "      <th></th>\n",
       "      <th>name</th>\n",
       "      <th>year</th>\n",
       "      <th>selling_price</th>\n",
       "      <th>km_driven</th>\n",
       "      <th>fuel</th>\n",
       "      <th>seller_type</th>\n",
       "      <th>transmission</th>\n",
       "      <th>owner</th>\n",
       "      <th>mileage</th>\n",
       "      <th>engine</th>\n",
       "      <th>max_power</th>\n",
       "      <th>seats</th>\n",
       "    </tr>\n",
       "  </thead>\n",
       "  <tbody>\n",
       "    <tr>\n",
       "      <th>0</th>\n",
       "      <td>Maruti Swift Dzire VDI</td>\n",
       "      <td>2014</td>\n",
       "      <td>450000</td>\n",
       "      <td>145500</td>\n",
       "      <td>Diesel</td>\n",
       "      <td>Individual</td>\n",
       "      <td>Manual</td>\n",
       "      <td>First Owner</td>\n",
       "      <td>23.4 kmpl</td>\n",
       "      <td>1248 CC</td>\n",
       "      <td>74 bhp</td>\n",
       "      <td>5.0</td>\n",
       "    </tr>\n",
       "    <tr>\n",
       "      <th>1</th>\n",
       "      <td>Skoda Rapid 1.5 TDI Ambition</td>\n",
       "      <td>2014</td>\n",
       "      <td>370000</td>\n",
       "      <td>120000</td>\n",
       "      <td>Diesel</td>\n",
       "      <td>Individual</td>\n",
       "      <td>Manual</td>\n",
       "      <td>Second Owner</td>\n",
       "      <td>21.14 kmpl</td>\n",
       "      <td>1498 CC</td>\n",
       "      <td>103.52 bhp</td>\n",
       "      <td>5.0</td>\n",
       "    </tr>\n",
       "    <tr>\n",
       "      <th>2</th>\n",
       "      <td>Honda City 2017-2020 EXi</td>\n",
       "      <td>2006</td>\n",
       "      <td>158000</td>\n",
       "      <td>140000</td>\n",
       "      <td>Petrol</td>\n",
       "      <td>Individual</td>\n",
       "      <td>Manual</td>\n",
       "      <td>Third Owner</td>\n",
       "      <td>17.7 kmpl</td>\n",
       "      <td>1497 CC</td>\n",
       "      <td>78 bhp</td>\n",
       "      <td>5.0</td>\n",
       "    </tr>\n",
       "    <tr>\n",
       "      <th>3</th>\n",
       "      <td>Hyundai i20 Sportz Diesel</td>\n",
       "      <td>2010</td>\n",
       "      <td>225000</td>\n",
       "      <td>127000</td>\n",
       "      <td>Diesel</td>\n",
       "      <td>Individual</td>\n",
       "      <td>Manual</td>\n",
       "      <td>First Owner</td>\n",
       "      <td>23.0 kmpl</td>\n",
       "      <td>1396 CC</td>\n",
       "      <td>90 bhp</td>\n",
       "      <td>5.0</td>\n",
       "    </tr>\n",
       "    <tr>\n",
       "      <th>4</th>\n",
       "      <td>Maruti Swift VXI BSIII</td>\n",
       "      <td>2007</td>\n",
       "      <td>130000</td>\n",
       "      <td>120000</td>\n",
       "      <td>Petrol</td>\n",
       "      <td>Individual</td>\n",
       "      <td>Manual</td>\n",
       "      <td>First Owner</td>\n",
       "      <td>16.1 kmpl</td>\n",
       "      <td>1298 CC</td>\n",
       "      <td>88.2 bhp</td>\n",
       "      <td>5.0</td>\n",
       "    </tr>\n",
       "    <tr>\n",
       "      <th>...</th>\n",
       "      <td>...</td>\n",
       "      <td>...</td>\n",
       "      <td>...</td>\n",
       "      <td>...</td>\n",
       "      <td>...</td>\n",
       "      <td>...</td>\n",
       "      <td>...</td>\n",
       "      <td>...</td>\n",
       "      <td>...</td>\n",
       "      <td>...</td>\n",
       "      <td>...</td>\n",
       "      <td>...</td>\n",
       "    </tr>\n",
       "    <tr>\n",
       "      <th>8123</th>\n",
       "      <td>Hyundai i20 Magna</td>\n",
       "      <td>2013</td>\n",
       "      <td>320000</td>\n",
       "      <td>110000</td>\n",
       "      <td>Petrol</td>\n",
       "      <td>Individual</td>\n",
       "      <td>Manual</td>\n",
       "      <td>First Owner</td>\n",
       "      <td>18.5 kmpl</td>\n",
       "      <td>1197 CC</td>\n",
       "      <td>82.85 bhp</td>\n",
       "      <td>5.0</td>\n",
       "    </tr>\n",
       "    <tr>\n",
       "      <th>8124</th>\n",
       "      <td>Hyundai Verna CRDi SX</td>\n",
       "      <td>2007</td>\n",
       "      <td>135000</td>\n",
       "      <td>119000</td>\n",
       "      <td>Diesel</td>\n",
       "      <td>Individual</td>\n",
       "      <td>Manual</td>\n",
       "      <td>Fourth &amp; Above Owner</td>\n",
       "      <td>16.8 kmpl</td>\n",
       "      <td>1493 CC</td>\n",
       "      <td>110 bhp</td>\n",
       "      <td>5.0</td>\n",
       "    </tr>\n",
       "    <tr>\n",
       "      <th>8125</th>\n",
       "      <td>Maruti Swift Dzire ZDi</td>\n",
       "      <td>2009</td>\n",
       "      <td>382000</td>\n",
       "      <td>120000</td>\n",
       "      <td>Diesel</td>\n",
       "      <td>Individual</td>\n",
       "      <td>Manual</td>\n",
       "      <td>First Owner</td>\n",
       "      <td>19.3 kmpl</td>\n",
       "      <td>1248 CC</td>\n",
       "      <td>73.9 bhp</td>\n",
       "      <td>5.0</td>\n",
       "    </tr>\n",
       "    <tr>\n",
       "      <th>8126</th>\n",
       "      <td>Tata Indigo CR4</td>\n",
       "      <td>2013</td>\n",
       "      <td>290000</td>\n",
       "      <td>25000</td>\n",
       "      <td>Diesel</td>\n",
       "      <td>Individual</td>\n",
       "      <td>Manual</td>\n",
       "      <td>First Owner</td>\n",
       "      <td>23.57 kmpl</td>\n",
       "      <td>1396 CC</td>\n",
       "      <td>70 bhp</td>\n",
       "      <td>5.0</td>\n",
       "    </tr>\n",
       "    <tr>\n",
       "      <th>8127</th>\n",
       "      <td>Tata Indigo CR4</td>\n",
       "      <td>2013</td>\n",
       "      <td>290000</td>\n",
       "      <td>25000</td>\n",
       "      <td>Diesel</td>\n",
       "      <td>Individual</td>\n",
       "      <td>Manual</td>\n",
       "      <td>First Owner</td>\n",
       "      <td>23.57 kmpl</td>\n",
       "      <td>1396 CC</td>\n",
       "      <td>70 bhp</td>\n",
       "      <td>5.0</td>\n",
       "    </tr>\n",
       "  </tbody>\n",
       "</table>\n",
       "<p>8128 rows × 12 columns</p>\n",
       "</div>"
      ],
      "text/plain": [
       "                              name  year  selling_price  km_driven    fuel  \\\n",
       "0           Maruti Swift Dzire VDI  2014         450000     145500  Diesel   \n",
       "1     Skoda Rapid 1.5 TDI Ambition  2014         370000     120000  Diesel   \n",
       "2         Honda City 2017-2020 EXi  2006         158000     140000  Petrol   \n",
       "3        Hyundai i20 Sportz Diesel  2010         225000     127000  Diesel   \n",
       "4           Maruti Swift VXI BSIII  2007         130000     120000  Petrol   \n",
       "...                            ...   ...            ...        ...     ...   \n",
       "8123             Hyundai i20 Magna  2013         320000     110000  Petrol   \n",
       "8124         Hyundai Verna CRDi SX  2007         135000     119000  Diesel   \n",
       "8125        Maruti Swift Dzire ZDi  2009         382000     120000  Diesel   \n",
       "8126               Tata Indigo CR4  2013         290000      25000  Diesel   \n",
       "8127               Tata Indigo CR4  2013         290000      25000  Diesel   \n",
       "\n",
       "     seller_type transmission                 owner     mileage   engine  \\\n",
       "0     Individual       Manual           First Owner   23.4 kmpl  1248 CC   \n",
       "1     Individual       Manual          Second Owner  21.14 kmpl  1498 CC   \n",
       "2     Individual       Manual           Third Owner   17.7 kmpl  1497 CC   \n",
       "3     Individual       Manual           First Owner   23.0 kmpl  1396 CC   \n",
       "4     Individual       Manual           First Owner   16.1 kmpl  1298 CC   \n",
       "...          ...          ...                   ...         ...      ...   \n",
       "8123  Individual       Manual           First Owner   18.5 kmpl  1197 CC   \n",
       "8124  Individual       Manual  Fourth & Above Owner   16.8 kmpl  1493 CC   \n",
       "8125  Individual       Manual           First Owner   19.3 kmpl  1248 CC   \n",
       "8126  Individual       Manual           First Owner  23.57 kmpl  1396 CC   \n",
       "8127  Individual       Manual           First Owner  23.57 kmpl  1396 CC   \n",
       "\n",
       "       max_power  seats  \n",
       "0         74 bhp    5.0  \n",
       "1     103.52 bhp    5.0  \n",
       "2         78 bhp    5.0  \n",
       "3         90 bhp    5.0  \n",
       "4       88.2 bhp    5.0  \n",
       "...          ...    ...  \n",
       "8123   82.85 bhp    5.0  \n",
       "8124     110 bhp    5.0  \n",
       "8125    73.9 bhp    5.0  \n",
       "8126      70 bhp    5.0  \n",
       "8127      70 bhp    5.0  \n",
       "\n",
       "[8128 rows x 12 columns]"
      ]
     },
     "execution_count": 191,
     "metadata": {},
     "output_type": "execute_result"
    }
   ],
   "source": [
    "auto_mpg_df"
   ]
  },
  {
   "cell_type": "markdown",
   "id": "bcccde60",
   "metadata": {
    "id": "bcccde60"
   },
   "source": [
    "**1.3. Missing Value analysis - Auto mpg dataset. \n",
    "Are thre any missing values in the dataset? If so, what can be done about it? Jusify your approach.**"
   ]
  },
  {
   "cell_type": "code",
   "execution_count": null,
   "id": "7136afc9",
   "metadata": {
    "id": "7136afc9",
    "outputId": "7e123d80-6b11-476d-a500-ef3c31c76afb"
   },
   "outputs": [
    {
     "data": {
      "text/plain": [
       "name               0\n",
       "year               0\n",
       "selling_price      0\n",
       "km_driven          0\n",
       "fuel               0\n",
       "seller_type        0\n",
       "transmission       0\n",
       "owner              0\n",
       "mileage          221\n",
       "engine           221\n",
       "max_power        215\n",
       "seats            221\n",
       "dtype: int64"
      ]
     },
     "execution_count": 192,
     "metadata": {},
     "output_type": "execute_result"
    }
   ],
   "source": [
    "auto_mpg_df.isnull().sum()"
   ]
  },
  {
   "cell_type": "markdown",
   "id": "2a82aa82",
   "metadata": {
    "id": "2a82aa82"
   },
   "source": [
    "As the same rows have missing data and the missing data compromises of only 2.7% data we can remove the rows directly."
   ]
  },
  {
   "cell_type": "code",
   "execution_count": null,
   "id": "b91b7803",
   "metadata": {
    "id": "b91b7803"
   },
   "outputs": [],
   "source": [
    "auto_mpg_df = auto_mpg_df.loc[auto_mpg_df['mileage'].isnull() == False]"
   ]
  },
  {
   "cell_type": "code",
   "execution_count": null,
   "id": "b5a39c87",
   "metadata": {
    "id": "b5a39c87",
    "outputId": "31d4a96b-b7a4-4e47-91d1-c3d4739fd68a"
   },
   "outputs": [
    {
     "data": {
      "text/plain": [
       "7907"
      ]
     },
     "execution_count": 195,
     "metadata": {},
     "output_type": "execute_result"
    }
   ],
   "source": [
    "auto_mpg_df.shape[0]"
   ]
  },
  {
   "cell_type": "code",
   "execution_count": null,
   "id": "7b7bb0a2",
   "metadata": {
    "id": "7b7bb0a2",
    "outputId": "0e1ece9f-b4c4-46ea-cab8-dac5e83d041a"
   },
   "outputs": [
    {
     "data": {
      "text/html": [
       "<div>\n",
       "<style scoped>\n",
       "    .dataframe tbody tr th:only-of-type {\n",
       "        vertical-align: middle;\n",
       "    }\n",
       "\n",
       "    .dataframe tbody tr th {\n",
       "        vertical-align: top;\n",
       "    }\n",
       "\n",
       "    .dataframe thead th {\n",
       "        text-align: right;\n",
       "    }\n",
       "</style>\n",
       "<table border=\"1\" class=\"dataframe\">\n",
       "  <thead>\n",
       "    <tr style=\"text-align: right;\">\n",
       "      <th></th>\n",
       "      <th>name</th>\n",
       "      <th>year</th>\n",
       "      <th>selling_price</th>\n",
       "      <th>km_driven</th>\n",
       "      <th>fuel</th>\n",
       "      <th>seller_type</th>\n",
       "      <th>transmission</th>\n",
       "      <th>owner</th>\n",
       "      <th>mileage</th>\n",
       "      <th>engine</th>\n",
       "      <th>max_power</th>\n",
       "      <th>seats</th>\n",
       "    </tr>\n",
       "  </thead>\n",
       "  <tbody>\n",
       "    <tr>\n",
       "      <th>0</th>\n",
       "      <td>Maruti Swift Dzire VDI</td>\n",
       "      <td>2014</td>\n",
       "      <td>450000</td>\n",
       "      <td>145500</td>\n",
       "      <td>Diesel</td>\n",
       "      <td>Individual</td>\n",
       "      <td>Manual</td>\n",
       "      <td>First Owner</td>\n",
       "      <td>23.4 kmpl</td>\n",
       "      <td>1248 CC</td>\n",
       "      <td>74 bhp</td>\n",
       "      <td>5.0</td>\n",
       "    </tr>\n",
       "    <tr>\n",
       "      <th>1</th>\n",
       "      <td>Skoda Rapid 1.5 TDI Ambition</td>\n",
       "      <td>2014</td>\n",
       "      <td>370000</td>\n",
       "      <td>120000</td>\n",
       "      <td>Diesel</td>\n",
       "      <td>Individual</td>\n",
       "      <td>Manual</td>\n",
       "      <td>Second Owner</td>\n",
       "      <td>21.14 kmpl</td>\n",
       "      <td>1498 CC</td>\n",
       "      <td>103.52 bhp</td>\n",
       "      <td>5.0</td>\n",
       "    </tr>\n",
       "    <tr>\n",
       "      <th>2</th>\n",
       "      <td>Honda City 2017-2020 EXi</td>\n",
       "      <td>2006</td>\n",
       "      <td>158000</td>\n",
       "      <td>140000</td>\n",
       "      <td>Petrol</td>\n",
       "      <td>Individual</td>\n",
       "      <td>Manual</td>\n",
       "      <td>Third Owner</td>\n",
       "      <td>17.7 kmpl</td>\n",
       "      <td>1497 CC</td>\n",
       "      <td>78 bhp</td>\n",
       "      <td>5.0</td>\n",
       "    </tr>\n",
       "    <tr>\n",
       "      <th>3</th>\n",
       "      <td>Hyundai i20 Sportz Diesel</td>\n",
       "      <td>2010</td>\n",
       "      <td>225000</td>\n",
       "      <td>127000</td>\n",
       "      <td>Diesel</td>\n",
       "      <td>Individual</td>\n",
       "      <td>Manual</td>\n",
       "      <td>First Owner</td>\n",
       "      <td>23.0 kmpl</td>\n",
       "      <td>1396 CC</td>\n",
       "      <td>90 bhp</td>\n",
       "      <td>5.0</td>\n",
       "    </tr>\n",
       "    <tr>\n",
       "      <th>4</th>\n",
       "      <td>Maruti Swift VXI BSIII</td>\n",
       "      <td>2007</td>\n",
       "      <td>130000</td>\n",
       "      <td>120000</td>\n",
       "      <td>Petrol</td>\n",
       "      <td>Individual</td>\n",
       "      <td>Manual</td>\n",
       "      <td>First Owner</td>\n",
       "      <td>16.1 kmpl</td>\n",
       "      <td>1298 CC</td>\n",
       "      <td>88.2 bhp</td>\n",
       "      <td>5.0</td>\n",
       "    </tr>\n",
       "    <tr>\n",
       "      <th>...</th>\n",
       "      <td>...</td>\n",
       "      <td>...</td>\n",
       "      <td>...</td>\n",
       "      <td>...</td>\n",
       "      <td>...</td>\n",
       "      <td>...</td>\n",
       "      <td>...</td>\n",
       "      <td>...</td>\n",
       "      <td>...</td>\n",
       "      <td>...</td>\n",
       "      <td>...</td>\n",
       "      <td>...</td>\n",
       "    </tr>\n",
       "    <tr>\n",
       "      <th>8123</th>\n",
       "      <td>Hyundai i20 Magna</td>\n",
       "      <td>2013</td>\n",
       "      <td>320000</td>\n",
       "      <td>110000</td>\n",
       "      <td>Petrol</td>\n",
       "      <td>Individual</td>\n",
       "      <td>Manual</td>\n",
       "      <td>First Owner</td>\n",
       "      <td>18.5 kmpl</td>\n",
       "      <td>1197 CC</td>\n",
       "      <td>82.85 bhp</td>\n",
       "      <td>5.0</td>\n",
       "    </tr>\n",
       "    <tr>\n",
       "      <th>8124</th>\n",
       "      <td>Hyundai Verna CRDi SX</td>\n",
       "      <td>2007</td>\n",
       "      <td>135000</td>\n",
       "      <td>119000</td>\n",
       "      <td>Diesel</td>\n",
       "      <td>Individual</td>\n",
       "      <td>Manual</td>\n",
       "      <td>Fourth &amp; Above Owner</td>\n",
       "      <td>16.8 kmpl</td>\n",
       "      <td>1493 CC</td>\n",
       "      <td>110 bhp</td>\n",
       "      <td>5.0</td>\n",
       "    </tr>\n",
       "    <tr>\n",
       "      <th>8125</th>\n",
       "      <td>Maruti Swift Dzire ZDi</td>\n",
       "      <td>2009</td>\n",
       "      <td>382000</td>\n",
       "      <td>120000</td>\n",
       "      <td>Diesel</td>\n",
       "      <td>Individual</td>\n",
       "      <td>Manual</td>\n",
       "      <td>First Owner</td>\n",
       "      <td>19.3 kmpl</td>\n",
       "      <td>1248 CC</td>\n",
       "      <td>73.9 bhp</td>\n",
       "      <td>5.0</td>\n",
       "    </tr>\n",
       "    <tr>\n",
       "      <th>8126</th>\n",
       "      <td>Tata Indigo CR4</td>\n",
       "      <td>2013</td>\n",
       "      <td>290000</td>\n",
       "      <td>25000</td>\n",
       "      <td>Diesel</td>\n",
       "      <td>Individual</td>\n",
       "      <td>Manual</td>\n",
       "      <td>First Owner</td>\n",
       "      <td>23.57 kmpl</td>\n",
       "      <td>1396 CC</td>\n",
       "      <td>70 bhp</td>\n",
       "      <td>5.0</td>\n",
       "    </tr>\n",
       "    <tr>\n",
       "      <th>8127</th>\n",
       "      <td>Tata Indigo CR4</td>\n",
       "      <td>2013</td>\n",
       "      <td>290000</td>\n",
       "      <td>25000</td>\n",
       "      <td>Diesel</td>\n",
       "      <td>Individual</td>\n",
       "      <td>Manual</td>\n",
       "      <td>First Owner</td>\n",
       "      <td>23.57 kmpl</td>\n",
       "      <td>1396 CC</td>\n",
       "      <td>70 bhp</td>\n",
       "      <td>5.0</td>\n",
       "    </tr>\n",
       "  </tbody>\n",
       "</table>\n",
       "<p>7907 rows × 12 columns</p>\n",
       "</div>"
      ],
      "text/plain": [
       "                              name  year  selling_price  km_driven    fuel  \\\n",
       "0           Maruti Swift Dzire VDI  2014         450000     145500  Diesel   \n",
       "1     Skoda Rapid 1.5 TDI Ambition  2014         370000     120000  Diesel   \n",
       "2         Honda City 2017-2020 EXi  2006         158000     140000  Petrol   \n",
       "3        Hyundai i20 Sportz Diesel  2010         225000     127000  Diesel   \n",
       "4           Maruti Swift VXI BSIII  2007         130000     120000  Petrol   \n",
       "...                            ...   ...            ...        ...     ...   \n",
       "8123             Hyundai i20 Magna  2013         320000     110000  Petrol   \n",
       "8124         Hyundai Verna CRDi SX  2007         135000     119000  Diesel   \n",
       "8125        Maruti Swift Dzire ZDi  2009         382000     120000  Diesel   \n",
       "8126               Tata Indigo CR4  2013         290000      25000  Diesel   \n",
       "8127               Tata Indigo CR4  2013         290000      25000  Diesel   \n",
       "\n",
       "     seller_type transmission                 owner     mileage   engine  \\\n",
       "0     Individual       Manual           First Owner   23.4 kmpl  1248 CC   \n",
       "1     Individual       Manual          Second Owner  21.14 kmpl  1498 CC   \n",
       "2     Individual       Manual           Third Owner   17.7 kmpl  1497 CC   \n",
       "3     Individual       Manual           First Owner   23.0 kmpl  1396 CC   \n",
       "4     Individual       Manual           First Owner   16.1 kmpl  1298 CC   \n",
       "...          ...          ...                   ...         ...      ...   \n",
       "8123  Individual       Manual           First Owner   18.5 kmpl  1197 CC   \n",
       "8124  Individual       Manual  Fourth & Above Owner   16.8 kmpl  1493 CC   \n",
       "8125  Individual       Manual           First Owner   19.3 kmpl  1248 CC   \n",
       "8126  Individual       Manual           First Owner  23.57 kmpl  1396 CC   \n",
       "8127  Individual       Manual           First Owner  23.57 kmpl  1396 CC   \n",
       "\n",
       "       max_power  seats  \n",
       "0         74 bhp    5.0  \n",
       "1     103.52 bhp    5.0  \n",
       "2         78 bhp    5.0  \n",
       "3         90 bhp    5.0  \n",
       "4       88.2 bhp    5.0  \n",
       "...          ...    ...  \n",
       "8123   82.85 bhp    5.0  \n",
       "8124     110 bhp    5.0  \n",
       "8125    73.9 bhp    5.0  \n",
       "8126      70 bhp    5.0  \n",
       "8127      70 bhp    5.0  \n",
       "\n",
       "[7907 rows x 12 columns]"
      ]
     },
     "execution_count": 196,
     "metadata": {},
     "output_type": "execute_result"
    }
   ],
   "source": [
    "auto_mpg_df"
   ]
  },
  {
   "cell_type": "markdown",
   "id": "d809bb8e",
   "metadata": {
    "id": "d809bb8e"
   },
   "source": [
    "**1.4. The features engine, max_power and mileage have units in the dataset. In the real world, we have such datasets, remove the units from each feature. For example: 1248 CC engine is 1248, 23.4 kmpl is 23.4 and so on. After doing so, convert the datatype of these columns to float.**\n",
    "\n",
    "**Hint: Check for distinct units in each of these features. A feature might have multiple units as well. Also, a feature could have no value but have unit. For example 'CC' without any value. Remove such rows.**"
   ]
  },
  {
   "cell_type": "code",
   "execution_count": null,
   "id": "21b76d44",
   "metadata": {
    "id": "21b76d44"
   },
   "outputs": [],
   "source": [
    "auto_mpg_df['engine'] = auto_mpg_df['engine'].str[:-3]\n",
    "auto_mpg_df['max_power'] = auto_mpg_df['max_power'].str[:-4]\n",
    "auto_mpg_df = auto_mpg_df[auto_mpg_df['max_power'] != '']\n",
    "auto_mpg_df['mileage'] = auto_mpg_df['mileage'].str[:-5]\n",
    "auto_mpg_df['mileage'] = auto_mpg_df['mileage'].str.replace(r' ', '')"
   ]
  },
  {
   "cell_type": "code",
   "execution_count": null,
   "id": "a30f2697",
   "metadata": {
    "id": "a30f2697",
    "outputId": "0b0ee86b-58bb-41cf-f3c6-fc7d727f6491"
   },
   "outputs": [
    {
     "name": "stdout",
     "output_type": "stream",
     "text": [
      "<class 'pandas.core.frame.DataFrame'>\n",
      "Int64Index: 7906 entries, 0 to 8127\n",
      "Data columns (total 12 columns):\n",
      " #   Column         Non-Null Count  Dtype  \n",
      "---  ------         --------------  -----  \n",
      " 0   name           7906 non-null   object \n",
      " 1   year           7906 non-null   int64  \n",
      " 2   selling_price  7906 non-null   int64  \n",
      " 3   km_driven      7906 non-null   int64  \n",
      " 4   fuel           7906 non-null   object \n",
      " 5   seller_type    7906 non-null   object \n",
      " 6   transmission   7906 non-null   object \n",
      " 7   owner          7906 non-null   object \n",
      " 8   mileage        7906 non-null   object \n",
      " 9   engine         7906 non-null   object \n",
      " 10  max_power      7906 non-null   object \n",
      " 11  seats          7906 non-null   float64\n",
      "dtypes: float64(1), int64(3), object(8)\n",
      "memory usage: 803.0+ KB\n"
     ]
    }
   ],
   "source": [
    "auto_mpg_df.info()"
   ]
  },
  {
   "cell_type": "code",
   "execution_count": null,
   "id": "e84101d8",
   "metadata": {
    "id": "e84101d8"
   },
   "outputs": [],
   "source": [
    "auto_mpg_df = auto_mpg_df.astype({'engine':int})\n",
    "auto_mpg_df = auto_mpg_df.astype({'mileage':float})\n",
    "auto_mpg_df = auto_mpg_df.astype({'max_power':float})"
   ]
  },
  {
   "cell_type": "code",
   "execution_count": null,
   "id": "bb24af52",
   "metadata": {
    "id": "bb24af52",
    "outputId": "3682783e-96e9-4c91-d462-711de9748a5e"
   },
   "outputs": [
    {
     "data": {
      "text/html": [
       "<div>\n",
       "<style scoped>\n",
       "    .dataframe tbody tr th:only-of-type {\n",
       "        vertical-align: middle;\n",
       "    }\n",
       "\n",
       "    .dataframe tbody tr th {\n",
       "        vertical-align: top;\n",
       "    }\n",
       "\n",
       "    .dataframe thead th {\n",
       "        text-align: right;\n",
       "    }\n",
       "</style>\n",
       "<table border=\"1\" class=\"dataframe\">\n",
       "  <thead>\n",
       "    <tr style=\"text-align: right;\">\n",
       "      <th></th>\n",
       "      <th>name</th>\n",
       "      <th>year</th>\n",
       "      <th>selling_price</th>\n",
       "      <th>km_driven</th>\n",
       "      <th>fuel</th>\n",
       "      <th>seller_type</th>\n",
       "      <th>transmission</th>\n",
       "      <th>owner</th>\n",
       "      <th>mileage</th>\n",
       "      <th>engine</th>\n",
       "      <th>max_power</th>\n",
       "      <th>seats</th>\n",
       "    </tr>\n",
       "  </thead>\n",
       "  <tbody>\n",
       "    <tr>\n",
       "      <th>0</th>\n",
       "      <td>Maruti Swift Dzire VDI</td>\n",
       "      <td>2014</td>\n",
       "      <td>450000</td>\n",
       "      <td>145500</td>\n",
       "      <td>Diesel</td>\n",
       "      <td>Individual</td>\n",
       "      <td>Manual</td>\n",
       "      <td>First Owner</td>\n",
       "      <td>23.40</td>\n",
       "      <td>1248</td>\n",
       "      <td>74.00</td>\n",
       "      <td>5.0</td>\n",
       "    </tr>\n",
       "    <tr>\n",
       "      <th>1</th>\n",
       "      <td>Skoda Rapid 1.5 TDI Ambition</td>\n",
       "      <td>2014</td>\n",
       "      <td>370000</td>\n",
       "      <td>120000</td>\n",
       "      <td>Diesel</td>\n",
       "      <td>Individual</td>\n",
       "      <td>Manual</td>\n",
       "      <td>Second Owner</td>\n",
       "      <td>21.14</td>\n",
       "      <td>1498</td>\n",
       "      <td>103.52</td>\n",
       "      <td>5.0</td>\n",
       "    </tr>\n",
       "    <tr>\n",
       "      <th>2</th>\n",
       "      <td>Honda City 2017-2020 EXi</td>\n",
       "      <td>2006</td>\n",
       "      <td>158000</td>\n",
       "      <td>140000</td>\n",
       "      <td>Petrol</td>\n",
       "      <td>Individual</td>\n",
       "      <td>Manual</td>\n",
       "      <td>Third Owner</td>\n",
       "      <td>17.70</td>\n",
       "      <td>1497</td>\n",
       "      <td>78.00</td>\n",
       "      <td>5.0</td>\n",
       "    </tr>\n",
       "    <tr>\n",
       "      <th>3</th>\n",
       "      <td>Hyundai i20 Sportz Diesel</td>\n",
       "      <td>2010</td>\n",
       "      <td>225000</td>\n",
       "      <td>127000</td>\n",
       "      <td>Diesel</td>\n",
       "      <td>Individual</td>\n",
       "      <td>Manual</td>\n",
       "      <td>First Owner</td>\n",
       "      <td>23.00</td>\n",
       "      <td>1396</td>\n",
       "      <td>90.00</td>\n",
       "      <td>5.0</td>\n",
       "    </tr>\n",
       "    <tr>\n",
       "      <th>4</th>\n",
       "      <td>Maruti Swift VXI BSIII</td>\n",
       "      <td>2007</td>\n",
       "      <td>130000</td>\n",
       "      <td>120000</td>\n",
       "      <td>Petrol</td>\n",
       "      <td>Individual</td>\n",
       "      <td>Manual</td>\n",
       "      <td>First Owner</td>\n",
       "      <td>16.10</td>\n",
       "      <td>1298</td>\n",
       "      <td>88.20</td>\n",
       "      <td>5.0</td>\n",
       "    </tr>\n",
       "    <tr>\n",
       "      <th>...</th>\n",
       "      <td>...</td>\n",
       "      <td>...</td>\n",
       "      <td>...</td>\n",
       "      <td>...</td>\n",
       "      <td>...</td>\n",
       "      <td>...</td>\n",
       "      <td>...</td>\n",
       "      <td>...</td>\n",
       "      <td>...</td>\n",
       "      <td>...</td>\n",
       "      <td>...</td>\n",
       "      <td>...</td>\n",
       "    </tr>\n",
       "    <tr>\n",
       "      <th>8123</th>\n",
       "      <td>Hyundai i20 Magna</td>\n",
       "      <td>2013</td>\n",
       "      <td>320000</td>\n",
       "      <td>110000</td>\n",
       "      <td>Petrol</td>\n",
       "      <td>Individual</td>\n",
       "      <td>Manual</td>\n",
       "      <td>First Owner</td>\n",
       "      <td>18.50</td>\n",
       "      <td>1197</td>\n",
       "      <td>82.85</td>\n",
       "      <td>5.0</td>\n",
       "    </tr>\n",
       "    <tr>\n",
       "      <th>8124</th>\n",
       "      <td>Hyundai Verna CRDi SX</td>\n",
       "      <td>2007</td>\n",
       "      <td>135000</td>\n",
       "      <td>119000</td>\n",
       "      <td>Diesel</td>\n",
       "      <td>Individual</td>\n",
       "      <td>Manual</td>\n",
       "      <td>Fourth &amp; Above Owner</td>\n",
       "      <td>16.80</td>\n",
       "      <td>1493</td>\n",
       "      <td>110.00</td>\n",
       "      <td>5.0</td>\n",
       "    </tr>\n",
       "    <tr>\n",
       "      <th>8125</th>\n",
       "      <td>Maruti Swift Dzire ZDi</td>\n",
       "      <td>2009</td>\n",
       "      <td>382000</td>\n",
       "      <td>120000</td>\n",
       "      <td>Diesel</td>\n",
       "      <td>Individual</td>\n",
       "      <td>Manual</td>\n",
       "      <td>First Owner</td>\n",
       "      <td>19.30</td>\n",
       "      <td>1248</td>\n",
       "      <td>73.90</td>\n",
       "      <td>5.0</td>\n",
       "    </tr>\n",
       "    <tr>\n",
       "      <th>8126</th>\n",
       "      <td>Tata Indigo CR4</td>\n",
       "      <td>2013</td>\n",
       "      <td>290000</td>\n",
       "      <td>25000</td>\n",
       "      <td>Diesel</td>\n",
       "      <td>Individual</td>\n",
       "      <td>Manual</td>\n",
       "      <td>First Owner</td>\n",
       "      <td>23.57</td>\n",
       "      <td>1396</td>\n",
       "      <td>70.00</td>\n",
       "      <td>5.0</td>\n",
       "    </tr>\n",
       "    <tr>\n",
       "      <th>8127</th>\n",
       "      <td>Tata Indigo CR4</td>\n",
       "      <td>2013</td>\n",
       "      <td>290000</td>\n",
       "      <td>25000</td>\n",
       "      <td>Diesel</td>\n",
       "      <td>Individual</td>\n",
       "      <td>Manual</td>\n",
       "      <td>First Owner</td>\n",
       "      <td>23.57</td>\n",
       "      <td>1396</td>\n",
       "      <td>70.00</td>\n",
       "      <td>5.0</td>\n",
       "    </tr>\n",
       "  </tbody>\n",
       "</table>\n",
       "<p>7906 rows × 12 columns</p>\n",
       "</div>"
      ],
      "text/plain": [
       "                              name  year  selling_price  km_driven    fuel  \\\n",
       "0           Maruti Swift Dzire VDI  2014         450000     145500  Diesel   \n",
       "1     Skoda Rapid 1.5 TDI Ambition  2014         370000     120000  Diesel   \n",
       "2         Honda City 2017-2020 EXi  2006         158000     140000  Petrol   \n",
       "3        Hyundai i20 Sportz Diesel  2010         225000     127000  Diesel   \n",
       "4           Maruti Swift VXI BSIII  2007         130000     120000  Petrol   \n",
       "...                            ...   ...            ...        ...     ...   \n",
       "8123             Hyundai i20 Magna  2013         320000     110000  Petrol   \n",
       "8124         Hyundai Verna CRDi SX  2007         135000     119000  Diesel   \n",
       "8125        Maruti Swift Dzire ZDi  2009         382000     120000  Diesel   \n",
       "8126               Tata Indigo CR4  2013         290000      25000  Diesel   \n",
       "8127               Tata Indigo CR4  2013         290000      25000  Diesel   \n",
       "\n",
       "     seller_type transmission                 owner  mileage  engine  \\\n",
       "0     Individual       Manual           First Owner    23.40    1248   \n",
       "1     Individual       Manual          Second Owner    21.14    1498   \n",
       "2     Individual       Manual           Third Owner    17.70    1497   \n",
       "3     Individual       Manual           First Owner    23.00    1396   \n",
       "4     Individual       Manual           First Owner    16.10    1298   \n",
       "...          ...          ...                   ...      ...     ...   \n",
       "8123  Individual       Manual           First Owner    18.50    1197   \n",
       "8124  Individual       Manual  Fourth & Above Owner    16.80    1493   \n",
       "8125  Individual       Manual           First Owner    19.30    1248   \n",
       "8126  Individual       Manual           First Owner    23.57    1396   \n",
       "8127  Individual       Manual           First Owner    23.57    1396   \n",
       "\n",
       "      max_power  seats  \n",
       "0         74.00    5.0  \n",
       "1        103.52    5.0  \n",
       "2         78.00    5.0  \n",
       "3         90.00    5.0  \n",
       "4         88.20    5.0  \n",
       "...         ...    ...  \n",
       "8123      82.85    5.0  \n",
       "8124     110.00    5.0  \n",
       "8125      73.90    5.0  \n",
       "8126      70.00    5.0  \n",
       "8127      70.00    5.0  \n",
       "\n",
       "[7906 rows x 12 columns]"
      ]
     },
     "execution_count": 200,
     "metadata": {},
     "output_type": "execute_result"
    }
   ],
   "source": [
    "auto_mpg_df"
   ]
  },
  {
   "cell_type": "code",
   "execution_count": null,
   "id": "862d73f9",
   "metadata": {
    "id": "862d73f9"
   },
   "outputs": [],
   "source": [
    "auto_mpg_X = auto_mpg_df.drop(columns=['selling_price'])\n",
    "auto_mpg_y = auto_mpg_df['selling_price']"
   ]
  },
  {
   "cell_type": "markdown",
   "id": "e881aff2",
   "metadata": {
    "id": "e881aff2"
   },
   "source": [
    "**1.5. Plot the distribution of the label (selling_price) using a histogram. Make multiple plots with different binwidths. Label your axes while plotting.**"
   ]
  },
  {
   "cell_type": "code",
   "execution_count": null,
   "id": "a0f96e30",
   "metadata": {
    "id": "a0f96e30",
    "outputId": "123f036b-fa17-452a-c211-849add36ccdb"
   },
   "outputs": [
    {
     "data": {
      "image/png": "[encoded data removed]",
      "text/plain": [
       "<Figure size 1080x720 with 4 Axes>"
      ]
     },
     "metadata": {
      "needs_background": "light"
     },
     "output_type": "display_data"
    }
   ],
   "source": [
    "### Your code here\n",
    "fig = plt.figure(figsize = (15,10))\n",
    "fig.suptitle('Histograms of Selling Price', fontsize = 20)\n",
    "\n",
    "ax1 = plt.subplot2grid((2,2),(0,0))\n",
    "ax1.hist(auto_mpg_y,bins = 10)\n",
    "ax1.set_xlabel('Selling Price')\n",
    "ax1.set_ylabel('Frequency')\n",
    "ax1.set_title('Binwidth = 10')\n",
    "\n",
    "ax1 = plt.subplot2grid((2,2),(0,1))\n",
    "ax1.hist(auto_mpg_y,bins = 20)\n",
    "ax1.set_xlabel('Selling Price')\n",
    "ax1.set_ylabel('Frequency')\n",
    "ax1.set_title('Binwidth = 20')\n",
    "\n",
    "ax1 = plt.subplot2grid((2,2),(1,0))\n",
    "ax1.hist(auto_mpg_y,bins = 30)\n",
    "ax1.set_xlabel('Selling Price')\n",
    "ax1.set_ylabel('Frequency')\n",
    "ax1.set_title('Binwidth = 30')\n",
    "\n",
    "ax1 = plt.subplot2grid((2,2),(1,1))\n",
    "ax1.hist(auto_mpg_y,bins = 40)\n",
    "ax1.set_xlabel('Selling Price')\n",
    "ax1.set_ylabel('Frequency')\n",
    "ax1.set_title('Binwidth = 40')\n",
    "\n",
    "plt.tight_layout()\n",
    "\n",
    "plt.show()\n"
   ]
  },
  {
   "cell_type": "markdown",
   "id": "5b87f7d8",
   "metadata": {
    "id": "5b87f7d8"
   },
   "source": [
    "**1.6. Plot the relationships between the label (Selling Price) and the continuous features (Mileage, km driven, engine, max power) using a small multiple of scatter plots. \n",
    "Make sure to label the axes. Do you see something interesting about the distributions of these features.**"
   ]
  },
  {
   "cell_type": "code",
   "execution_count": null,
   "id": "c3b62169",
   "metadata": {
    "id": "c3b62169",
    "outputId": "53959040-5f2a-4a11-ca80-7947a3c038ad"
   },
   "outputs": [
    {
     "data": {
      "image/png": "[encoded data removed]",
      "text/plain": [
       "<Figure size 1080x720 with 4 Axes>"
      ]
     },
     "metadata": {
      "needs_background": "light"
     },
     "output_type": "display_data"
    }
   ],
   "source": [
    "### Your code here\n",
    "### Your code here\n",
    "fig = plt.figure(figsize = (15,10))\n",
    "fig.suptitle('Continuous variables vs MPG', fontsize = 20)\n",
    "\n",
    "ax1 = plt.subplot2grid((4,1),(0,0))\n",
    "ax1.scatter(auto_mpg_X['mileage'],auto_mpg_y)\n",
    "ax1.set_xlabel('mileage')\n",
    "ax1.set_ylabel('MPG')\n",
    "ax1.set_title('Displacement vs MPG')\n",
    "\n",
    "ax1 = plt.subplot2grid((4,1),(1,0))\n",
    "ax1.scatter(auto_mpg_X['engine'],auto_mpg_y)\n",
    "ax1.set_xlabel('mileage')\n",
    "ax1.set_ylabel('MPG')\n",
    "ax1.set_title('Displacement vs MPG')\n",
    "\n",
    "ax1 = plt.subplot2grid((4,1),(2,0))\n",
    "ax1.scatter(auto_mpg_X['max_power'],auto_mpg_y)\n",
    "ax1.set_xlabel('mileage')\n",
    "ax1.set_ylabel('MPG')\n",
    "ax1.set_title('Displacement vs MPG')\n",
    "\n",
    "ax1 = plt.subplot2grid((4,1),(3,0))\n",
    "ax1.scatter(auto_mpg_X['km_driven'],auto_mpg_y)\n",
    "ax1.set_xlabel('Kms_Driven')\n",
    "ax1.set_ylabel('MPG')\n",
    "ax1.set_title('Acceleration vs MPG')\n",
    "\n",
    "plt.tight_layout()\n",
    "\n",
    "plt.show()\n"
   ]
  },
  {
   "cell_type": "markdown",
   "id": "863a24f0",
   "metadata": {
    "id": "863a24f0"
   },
   "source": [
    "Any of the features do not rigrously follow the linear relationship with the target feature. Moreover, they seem to have outliers. Because of all of these voilations of Linear regression assumptions, the model would not be a great fit."
   ]
  },
  {
   "cell_type": "markdown",
   "id": "84ffa354",
   "metadata": {
    "id": "84ffa354"
   },
   "source": [
    "**1.7. Plot the relationships between the label (Selling Price) and the discrete features (fuel type, Seller type, transmission) using a small multiple of box plots. Make sure to label the axes.**"
   ]
  },
  {
   "cell_type": "code",
   "execution_count": null,
   "id": "16812f56",
   "metadata": {
    "id": "16812f56",
    "outputId": "9615cd10-62b9-451d-8ecf-ca57f5dedc92"
   },
   "outputs": [
    {
     "data": {
      "image/png": "[encoded data removed]",
      "text/plain": [
       "<Figure size 1080x720 with 3 Axes>"
      ]
     },
     "metadata": {
      "needs_background": "light"
     },
     "output_type": "display_data"
    }
   ],
   "source": [
    "### Your code here\n",
    "### Your code here\n",
    "### Your code here\n",
    "fig = plt.figure(figsize = (15,10))\n",
    "fig.suptitle('Discrete variables vs MPG', fontsize = 20)\n",
    "\n",
    "ax1 = plt.subplot2grid((3,1),(0,0))\n",
    "a_label = np.sort(auto_mpg_df['owner'].unique())\n",
    "a = [auto_mpg_df.loc[auto_mpg_df['owner'] == i,'selling_price'] for i in a_label]\n",
    "ax1.boxplot(a,labels = np.asarray(a_label))\n",
    "ax1.set_xlabel('Fuel_Type')\n",
    "ax1.set_ylabel('Selling_Price')\n",
    "ax1.set_title('Fuel_Type vs Selling_Price')\n",
    "\n",
    "ax1 = plt.subplot2grid((3,1),(1,0))\n",
    "a_label = np.sort(auto_mpg_df['seller_type'].unique())\n",
    "a = [auto_mpg_df.loc[auto_mpg_df['seller_type'] == i,'selling_price'] for i in a_label]\n",
    "ax1.boxplot(a,labels = np.asarray(a_label))\n",
    "ax1.set_xlabel('Seller_Type')\n",
    "ax1.set_ylabel('Selling_Price')\n",
    "ax1.set_title('Seller_Type vs Selling_Price')\n",
    "\n",
    "ax1 = plt.subplot2grid((3,1),(2,0))\n",
    "a_label = np.sort(auto_mpg_df['transmission'].unique())\n",
    "a = [auto_mpg_df.loc[auto_mpg_df['transmission'] == i,'selling_price'] for i in a_label]\n",
    "ax1.boxplot(a,labels = np.asarray(a_label))\n",
    "ax1.set_xlabel('Seller_Type')\n",
    "ax1.set_ylabel('Selling_Price')\n",
    "ax1.set_title('Seller_Type vs Selling_Price')\n",
    "\n",
    "plt.tight_layout()\n",
    "\n",
    "plt.show()"
   ]
  },
  {
   "cell_type": "markdown",
   "id": "28eaf41d",
   "metadata": {
    "id": "28eaf41d"
   },
   "source": [
    "**1.8. From the visualizations above, do you think linear regression is a good model for this problem? Why and/or why not?**"
   ]
  },
  {
   "cell_type": "markdown",
   "id": "202ae989",
   "metadata": {
    "id": "202ae989"
   },
   "source": [
    "Linear regression is a good choice looking at some of the categorical features but looking at some of the numerical features we can see that they do not strictly follow linear relationship so it makes more sense to try non-linear models. "
   ]
  },
  {
   "cell_type": "code",
   "execution_count": null,
   "id": "1c7fb6c1",
   "metadata": {
    "id": "1c7fb6c1"
   },
   "outputs": [],
   "source": [
    "auto_mpg_X['year'] =  2020 - auto_mpg_X['year']"
   ]
  },
  {
   "cell_type": "code",
   "execution_count": null,
   "id": "d8b14599",
   "metadata": {
    "id": "d8b14599",
    "outputId": "ae28dfd0-5b37-4c8a-e61a-a184b1342973"
   },
   "outputs": [
    {
     "data": {
      "text/html": [
       "<div>\n",
       "<style scoped>\n",
       "    .dataframe tbody tr th:only-of-type {\n",
       "        vertical-align: middle;\n",
       "    }\n",
       "\n",
       "    .dataframe tbody tr th {\n",
       "        vertical-align: top;\n",
       "    }\n",
       "\n",
       "    .dataframe thead th {\n",
       "        text-align: right;\n",
       "    }\n",
       "</style>\n",
       "<table border=\"1\" class=\"dataframe\">\n",
       "  <thead>\n",
       "    <tr style=\"text-align: right;\">\n",
       "      <th></th>\n",
       "      <th>name</th>\n",
       "      <th>year</th>\n",
       "      <th>km_driven</th>\n",
       "      <th>fuel</th>\n",
       "      <th>seller_type</th>\n",
       "      <th>transmission</th>\n",
       "      <th>owner</th>\n",
       "      <th>mileage</th>\n",
       "      <th>engine</th>\n",
       "      <th>max_power</th>\n",
       "      <th>seats</th>\n",
       "    </tr>\n",
       "  </thead>\n",
       "  <tbody>\n",
       "    <tr>\n",
       "      <th>0</th>\n",
       "      <td>Maruti Swift Dzire VDI</td>\n",
       "      <td>6</td>\n",
       "      <td>145500</td>\n",
       "      <td>Diesel</td>\n",
       "      <td>Individual</td>\n",
       "      <td>Manual</td>\n",
       "      <td>First Owner</td>\n",
       "      <td>23.40</td>\n",
       "      <td>1248</td>\n",
       "      <td>74.00</td>\n",
       "      <td>5.0</td>\n",
       "    </tr>\n",
       "    <tr>\n",
       "      <th>1</th>\n",
       "      <td>Skoda Rapid 1.5 TDI Ambition</td>\n",
       "      <td>6</td>\n",
       "      <td>120000</td>\n",
       "      <td>Diesel</td>\n",
       "      <td>Individual</td>\n",
       "      <td>Manual</td>\n",
       "      <td>Second Owner</td>\n",
       "      <td>21.14</td>\n",
       "      <td>1498</td>\n",
       "      <td>103.52</td>\n",
       "      <td>5.0</td>\n",
       "    </tr>\n",
       "    <tr>\n",
       "      <th>2</th>\n",
       "      <td>Honda City 2017-2020 EXi</td>\n",
       "      <td>14</td>\n",
       "      <td>140000</td>\n",
       "      <td>Petrol</td>\n",
       "      <td>Individual</td>\n",
       "      <td>Manual</td>\n",
       "      <td>Third Owner</td>\n",
       "      <td>17.70</td>\n",
       "      <td>1497</td>\n",
       "      <td>78.00</td>\n",
       "      <td>5.0</td>\n",
       "    </tr>\n",
       "    <tr>\n",
       "      <th>3</th>\n",
       "      <td>Hyundai i20 Sportz Diesel</td>\n",
       "      <td>10</td>\n",
       "      <td>127000</td>\n",
       "      <td>Diesel</td>\n",
       "      <td>Individual</td>\n",
       "      <td>Manual</td>\n",
       "      <td>First Owner</td>\n",
       "      <td>23.00</td>\n",
       "      <td>1396</td>\n",
       "      <td>90.00</td>\n",
       "      <td>5.0</td>\n",
       "    </tr>\n",
       "    <tr>\n",
       "      <th>4</th>\n",
       "      <td>Maruti Swift VXI BSIII</td>\n",
       "      <td>13</td>\n",
       "      <td>120000</td>\n",
       "      <td>Petrol</td>\n",
       "      <td>Individual</td>\n",
       "      <td>Manual</td>\n",
       "      <td>First Owner</td>\n",
       "      <td>16.10</td>\n",
       "      <td>1298</td>\n",
       "      <td>88.20</td>\n",
       "      <td>5.0</td>\n",
       "    </tr>\n",
       "    <tr>\n",
       "      <th>...</th>\n",
       "      <td>...</td>\n",
       "      <td>...</td>\n",
       "      <td>...</td>\n",
       "      <td>...</td>\n",
       "      <td>...</td>\n",
       "      <td>...</td>\n",
       "      <td>...</td>\n",
       "      <td>...</td>\n",
       "      <td>...</td>\n",
       "      <td>...</td>\n",
       "      <td>...</td>\n",
       "    </tr>\n",
       "    <tr>\n",
       "      <th>8123</th>\n",
       "      <td>Hyundai i20 Magna</td>\n",
       "      <td>7</td>\n",
       "      <td>110000</td>\n",
       "      <td>Petrol</td>\n",
       "      <td>Individual</td>\n",
       "      <td>Manual</td>\n",
       "      <td>First Owner</td>\n",
       "      <td>18.50</td>\n",
       "      <td>1197</td>\n",
       "      <td>82.85</td>\n",
       "      <td>5.0</td>\n",
       "    </tr>\n",
       "    <tr>\n",
       "      <th>8124</th>\n",
       "      <td>Hyundai Verna CRDi SX</td>\n",
       "      <td>13</td>\n",
       "      <td>119000</td>\n",
       "      <td>Diesel</td>\n",
       "      <td>Individual</td>\n",
       "      <td>Manual</td>\n",
       "      <td>Fourth &amp; Above Owner</td>\n",
       "      <td>16.80</td>\n",
       "      <td>1493</td>\n",
       "      <td>110.00</td>\n",
       "      <td>5.0</td>\n",
       "    </tr>\n",
       "    <tr>\n",
       "      <th>8125</th>\n",
       "      <td>Maruti Swift Dzire ZDi</td>\n",
       "      <td>11</td>\n",
       "      <td>120000</td>\n",
       "      <td>Diesel</td>\n",
       "      <td>Individual</td>\n",
       "      <td>Manual</td>\n",
       "      <td>First Owner</td>\n",
       "      <td>19.30</td>\n",
       "      <td>1248</td>\n",
       "      <td>73.90</td>\n",
       "      <td>5.0</td>\n",
       "    </tr>\n",
       "    <tr>\n",
       "      <th>8126</th>\n",
       "      <td>Tata Indigo CR4</td>\n",
       "      <td>7</td>\n",
       "      <td>25000</td>\n",
       "      <td>Diesel</td>\n",
       "      <td>Individual</td>\n",
       "      <td>Manual</td>\n",
       "      <td>First Owner</td>\n",
       "      <td>23.57</td>\n",
       "      <td>1396</td>\n",
       "      <td>70.00</td>\n",
       "      <td>5.0</td>\n",
       "    </tr>\n",
       "    <tr>\n",
       "      <th>8127</th>\n",
       "      <td>Tata Indigo CR4</td>\n",
       "      <td>7</td>\n",
       "      <td>25000</td>\n",
       "      <td>Diesel</td>\n",
       "      <td>Individual</td>\n",
       "      <td>Manual</td>\n",
       "      <td>First Owner</td>\n",
       "      <td>23.57</td>\n",
       "      <td>1396</td>\n",
       "      <td>70.00</td>\n",
       "      <td>5.0</td>\n",
       "    </tr>\n",
       "  </tbody>\n",
       "</table>\n",
       "<p>7906 rows × 11 columns</p>\n",
       "</div>"
      ],
      "text/plain": [
       "                              name  year  km_driven    fuel seller_type  \\\n",
       "0           Maruti Swift Dzire VDI     6     145500  Diesel  Individual   \n",
       "1     Skoda Rapid 1.5 TDI Ambition     6     120000  Diesel  Individual   \n",
       "2         Honda City 2017-2020 EXi    14     140000  Petrol  Individual   \n",
       "3        Hyundai i20 Sportz Diesel    10     127000  Diesel  Individual   \n",
       "4           Maruti Swift VXI BSIII    13     120000  Petrol  Individual   \n",
       "...                            ...   ...        ...     ...         ...   \n",
       "8123             Hyundai i20 Magna     7     110000  Petrol  Individual   \n",
       "8124         Hyundai Verna CRDi SX    13     119000  Diesel  Individual   \n",
       "8125        Maruti Swift Dzire ZDi    11     120000  Diesel  Individual   \n",
       "8126               Tata Indigo CR4     7      25000  Diesel  Individual   \n",
       "8127               Tata Indigo CR4     7      25000  Diesel  Individual   \n",
       "\n",
       "     transmission                 owner  mileage  engine  max_power  seats  \n",
       "0          Manual           First Owner    23.40    1248      74.00    5.0  \n",
       "1          Manual          Second Owner    21.14    1498     103.52    5.0  \n",
       "2          Manual           Third Owner    17.70    1497      78.00    5.0  \n",
       "3          Manual           First Owner    23.00    1396      90.00    5.0  \n",
       "4          Manual           First Owner    16.10    1298      88.20    5.0  \n",
       "...           ...                   ...      ...     ...        ...    ...  \n",
       "8123       Manual           First Owner    18.50    1197      82.85    5.0  \n",
       "8124       Manual  Fourth & Above Owner    16.80    1493     110.00    5.0  \n",
       "8125       Manual           First Owner    19.30    1248      73.90    5.0  \n",
       "8126       Manual           First Owner    23.57    1396      70.00    5.0  \n",
       "8127       Manual           First Owner    23.57    1396      70.00    5.0  \n",
       "\n",
       "[7906 rows x 11 columns]"
      ]
     },
     "execution_count": 206,
     "metadata": {},
     "output_type": "execute_result"
    }
   ],
   "source": [
    "auto_mpg_X"
   ]
  },
  {
   "cell_type": "code",
   "execution_count": null,
   "id": "4fdee656",
   "metadata": {
    "id": "4fdee656",
    "outputId": "2773ee95-561d-4e40-8ced-0697a444817c"
   },
   "outputs": [
    {
     "data": {
      "text/html": [
       "<div>\n",
       "<style scoped>\n",
       "    .dataframe tbody tr th:only-of-type {\n",
       "        vertical-align: middle;\n",
       "    }\n",
       "\n",
       "    .dataframe tbody tr th {\n",
       "        vertical-align: top;\n",
       "    }\n",
       "\n",
       "    .dataframe thead th {\n",
       "        text-align: right;\n",
       "    }\n",
       "</style>\n",
       "<table border=\"1\" class=\"dataframe\">\n",
       "  <thead>\n",
       "    <tr style=\"text-align: right;\">\n",
       "      <th></th>\n",
       "      <th>year</th>\n",
       "      <th>km_driven</th>\n",
       "      <th>fuel</th>\n",
       "      <th>seller_type</th>\n",
       "      <th>transmission</th>\n",
       "      <th>owner</th>\n",
       "      <th>mileage</th>\n",
       "      <th>engine</th>\n",
       "      <th>max_power</th>\n",
       "      <th>seats</th>\n",
       "    </tr>\n",
       "  </thead>\n",
       "  <tbody>\n",
       "    <tr>\n",
       "      <th>0</th>\n",
       "      <td>6</td>\n",
       "      <td>145500</td>\n",
       "      <td>Diesel</td>\n",
       "      <td>Individual</td>\n",
       "      <td>Manual</td>\n",
       "      <td>First Owner</td>\n",
       "      <td>23.40</td>\n",
       "      <td>1248</td>\n",
       "      <td>74.00</td>\n",
       "      <td>5.0</td>\n",
       "    </tr>\n",
       "    <tr>\n",
       "      <th>1</th>\n",
       "      <td>6</td>\n",
       "      <td>120000</td>\n",
       "      <td>Diesel</td>\n",
       "      <td>Individual</td>\n",
       "      <td>Manual</td>\n",
       "      <td>Second Owner</td>\n",
       "      <td>21.14</td>\n",
       "      <td>1498</td>\n",
       "      <td>103.52</td>\n",
       "      <td>5.0</td>\n",
       "    </tr>\n",
       "    <tr>\n",
       "      <th>2</th>\n",
       "      <td>14</td>\n",
       "      <td>140000</td>\n",
       "      <td>Petrol</td>\n",
       "      <td>Individual</td>\n",
       "      <td>Manual</td>\n",
       "      <td>Third Owner</td>\n",
       "      <td>17.70</td>\n",
       "      <td>1497</td>\n",
       "      <td>78.00</td>\n",
       "      <td>5.0</td>\n",
       "    </tr>\n",
       "    <tr>\n",
       "      <th>3</th>\n",
       "      <td>10</td>\n",
       "      <td>127000</td>\n",
       "      <td>Diesel</td>\n",
       "      <td>Individual</td>\n",
       "      <td>Manual</td>\n",
       "      <td>First Owner</td>\n",
       "      <td>23.00</td>\n",
       "      <td>1396</td>\n",
       "      <td>90.00</td>\n",
       "      <td>5.0</td>\n",
       "    </tr>\n",
       "    <tr>\n",
       "      <th>4</th>\n",
       "      <td>13</td>\n",
       "      <td>120000</td>\n",
       "      <td>Petrol</td>\n",
       "      <td>Individual</td>\n",
       "      <td>Manual</td>\n",
       "      <td>First Owner</td>\n",
       "      <td>16.10</td>\n",
       "      <td>1298</td>\n",
       "      <td>88.20</td>\n",
       "      <td>5.0</td>\n",
       "    </tr>\n",
       "  </tbody>\n",
       "</table>\n",
       "</div>"
      ],
      "text/plain": [
       "   year  km_driven    fuel seller_type transmission         owner  mileage  \\\n",
       "0     6     145500  Diesel  Individual       Manual   First Owner    23.40   \n",
       "1     6     120000  Diesel  Individual       Manual  Second Owner    21.14   \n",
       "2    14     140000  Petrol  Individual       Manual   Third Owner    17.70   \n",
       "3    10     127000  Diesel  Individual       Manual   First Owner    23.00   \n",
       "4    13     120000  Petrol  Individual       Manual   First Owner    16.10   \n",
       "\n",
       "   engine  max_power  seats  \n",
       "0    1248      74.00    5.0  \n",
       "1    1498     103.52    5.0  \n",
       "2    1497      78.00    5.0  \n",
       "3    1396      90.00    5.0  \n",
       "4    1298      88.20    5.0  "
      ]
     },
     "execution_count": 207,
     "metadata": {},
     "output_type": "execute_result"
    }
   ],
   "source": [
    "#dropping the car name as it is irrelevant.\n",
    "auto_mpg_X.drop(['name'],axis = 1,inplace=True)\n",
    "\n",
    "#check out the dataset with new changes\n",
    "auto_mpg_X.head()"
   ]
  },
  {
   "cell_type": "markdown",
   "id": "71ebca87",
   "metadata": {
    "id": "71ebca87"
   },
   "source": [
    "### Data Pre-processing"
   ]
  },
  {
   "cell_type": "markdown",
   "id": "6980d1e4",
   "metadata": {
    "id": "6980d1e4"
   },
   "source": [
    "**1.9.\n",
    "Before we can fit a linear regression model, there are several pre-processing steps we should apply to the datasets:**\n",
    "1. Encode categorial features appropriately.\n",
    "2. Split the dataset into training (60%), validation (20%), and test (20%) sets.\n",
    "3. Standardize the columns in the feature matrices X_train, X_val, and X_test to have zero mean and unit variance. To avoid information leakage, learn the standardization parameters (mean, variance) from X_train, and apply it to X_train, X_val, and X_test.\n",
    "4. Add a column of ones to the feature matrices X_train, X_val, and X_test. This is a common trick so that we can learn a coefficient for the bias term of a linear model.\n"
   ]
  },
  {
   "cell_type": "code",
   "execution_count": null,
   "id": "8711d6a7",
   "metadata": {
    "id": "8711d6a7",
    "outputId": "eb324116-c230-4a46-a6b1-d3d757ab4c65"
   },
   "outputs": [
    {
     "name": "stdout",
     "output_type": "stream",
     "text": [
      "[[1.         0.15384615 0.00423826 1.         0.75       0.42763158\n",
      "  0.32684564 0.28370787 0.375      0.         0.         1.\n",
      "  1.         0.        ]\n",
      " [1.         0.15384615 0.03432993 0.         0.25       0.55322967\n",
      "  0.19228188 0.21268058 0.375      0.         0.         1.\n",
      "  0.         0.        ]\n",
      " [1.         0.34615385 0.06526925 0.         0.75       0.68779904\n",
      "  0.2590604  0.22953451 0.375      1.         0.         0.\n",
      "  0.         0.        ]\n",
      " [1.         0.07692308 0.01017183 1.         0.75       0.53229665\n",
      "  0.29261745 0.29173355 0.375      0.         0.         1.\n",
      "  0.         0.        ]\n",
      " [1.         0.07692308 0.01652923 0.         0.75       0.56818182\n",
      "  0.19228188 0.21268058 0.375      0.         0.         1.\n",
      "  0.         0.        ]] \n",
      "\n",
      " 4786     645000\n",
      "3744     270000\n",
      "6684     320000\n",
      "680     1100000\n",
      "4649     600000\n",
      "Name: selling_price, dtype: int64\n"
     ]
    }
   ],
   "source": [
    "# 1. No categorical features in the synthetic dataset (skip this step)\n",
    "transmission_mapper = {'Manual':0,'Automatic':1}\n",
    "auto_mpg_X['transmission'] = auto_mpg_X['transmission'].map(transmission_mapper)\n",
    "\n",
    "seller_type_mapper = {'Individual':1,'Dealer':2,'Trustmark Dealer':3}\n",
    "auto_mpg_X['seller_type'] = auto_mpg_X['seller_type'].map(seller_type_mapper)\n",
    "\n",
    "owner_mapper = {'Fourth & Above Owner':1,'Third Owner':2,'Second Owner':3,'First Owner':4,'Test Drive Car':5}\n",
    "auto_mpg_X['owner'] = auto_mpg_X['owner'].map(owner_mapper)\n",
    "\n",
    "auto_mpg_X=pd.get_dummies(auto_mpg_X,columns=['fuel','seller_type'],drop_first=True)\n",
    "\n",
    "# 2. Split the dataset into training (60%), validation (20%), and test (20%) sets\n",
    "\n",
    "auto_mpg_X_dev, auto_mpg_X_test, auto_mpg_y_dev, auto_mpg_y_test = train_test_split(auto_mpg_X, auto_mpg_y, test_size=0.2, random_state=20)\n",
    "auto_mpg_X_train, auto_mpg_X_val, auto_mpg_y_train, auto_mpg_y_val = train_test_split(auto_mpg_X_dev, auto_mpg_y_dev, test_size=0.25, random_state=20)\n",
    "\n",
    "\n",
    "# 3. Standardize the columns in the feature matrices\n",
    "### The question asked for Standard Scaler but MinMaxScaler is used as this gives better result. \n",
    "### No point has been deducted for using Standard Scaler. This is just to show that we should ideally try different\n",
    "### settings while training the model and see which gives the best result.\n",
    "scaler = MinMaxScaler()\n",
    "auto_mpg_X_train = scaler.fit_transform(auto_mpg_X_train)   # Fit and transform scalar on X_train\n",
    "auto_mpg_X_val = scaler.transform(auto_mpg_X_val)           # Transform X_val\n",
    "auto_mpg_X_test = scaler.transform(auto_mpg_X_test)         # Transform X_test\n",
    "\n",
    "\n",
    "# 4. Add a column of ones to the feature matrices\n",
    "\n",
    "auto_mpg_X_train = np.hstack([np.ones((auto_mpg_X_train.shape[0], 1)), auto_mpg_X_train])\n",
    "auto_mpg_X_val = np.hstack([np.ones((auto_mpg_X_val.shape[0], 1)), auto_mpg_X_val])\n",
    "auto_mpg_X_test = np.hstack([np.ones((auto_mpg_X_test.shape[0], 1)), auto_mpg_X_test])\n",
    "\n",
    "print(auto_mpg_X_train[:5], '\\n\\n', auto_mpg_y_train[:5])\n"
   ]
  },
  {
   "cell_type": "markdown",
   "id": "950f6e97",
   "metadata": {
    "id": "950f6e97"
   },
   "source": [
    "At the end of this pre-processing, you should have the following vectors and matrices:\n",
    "- Auto MPG dataset: auto_mpg_X_train, auto_mpg_X_val, auto_mpg_X_test, auto_mpg_y_train, auto_mpg_y_val, auto_mpg_y_test"
   ]
  },
  {
   "cell_type": "markdown",
   "id": "1e3b7ca8",
   "metadata": {
    "id": "1e3b7ca8"
   },
   "source": [
    "### Implement Linear Regression"
   ]
  },
  {
   "cell_type": "markdown",
   "id": "63b659a6",
   "metadata": {
    "id": "63b659a6"
   },
   "source": [
    "Now, we can implement our linear regression model! Specifically, we will be implementing ridge regression, which is linear regression with L2 regularization. Given an (m x n) feature matrix $X$, an (m x 1) label vector $y$, and an (n x 1) weight vector $w$, the hypothesis function for linear regression is:\n",
    "\n",
    "$$\n",
    "y = X w\n",
    "$$\n",
    "\n",
    "Note that we can omit the bias term here because we have included a column of ones in our $X$ matrix, so the bias term is learned implicitly as a part of $w$. This will make our implementation easier.\n",
    "\n",
    "Our objective in linear regression is to learn the weights $w$ which best fit the data. This notion can be formalized as finding the optimal $w$ which minimizes the following loss function:\n",
    "\n",
    "$$\n",
    "\\min_{w} \\| X w - y \\|^2_2 + \\alpha \\| w \\|^2_2 \\\\\n",
    "$$\n",
    "\n",
    "This is the ridge regression loss function. The $\\| X w - y \\|^2_2$ term penalizes predictions $Xw$ which are not close to the label $y$. And the $\\alpha \\| w \\|^2_2$ penalizes large weight values, to favor a simpler, more generalizable model. The $\\alpha$ hyperparameter, known as the regularization parameter, is used to tune the complexity of the model - a higher $\\alpha$ results in smaller weights and lower complexity, and vice versa. Setting $\\alpha = 0$ gives us vanilla linear regression.\n",
    "\n",
    "Conveniently, ridge regression has a closed-form solution which gives us the optimal $w$ without having to do iterative methods such as gradient descent. The closed-form solution, known as the Normal Equations, is given by:\n",
    "\n",
    "$$\n",
    "w = (X^T X + \\alpha I)^{-1} X^T y\n",
    "$$"
   ]
  },
  {
   "cell_type": "markdown",
   "id": "a7e132b4",
   "metadata": {
    "id": "a7e132b4"
   },
   "source": [
    "**1.10. Implement a `LinearRegression` class with two methods: `train` and `predict`.** You may NOT use sklearn for this implementation. You may, however, use `np.linalg.solve` to find the closed-form solution. It is highly recommended that you vectorize your code."
   ]
  },
  {
   "cell_type": "code",
   "execution_count": null,
   "id": "2e8cee4a",
   "metadata": {
    "id": "2e8cee4a"
   },
   "outputs": [],
   "source": [
    "class LinearRegression():\n",
    "    '''\n",
    "    Linear regression model with L2-regularization (i.e. ridge regression).\n",
    "\n",
    "    Attributes\n",
    "    ----------\n",
    "    alpha: regularization parameter\n",
    "    w: (n x 1) weight vector\n",
    "    '''\n",
    "    \n",
    "    def __init__(self, alpha=0):\n",
    "        self.alpha = alpha\n",
    "        self.w = None\n",
    "\n",
    "    def train(self, X, y):\n",
    "        \n",
    "        '''Trains model using ridge regression closed-form solution \n",
    "        (sets w to its optimal value).\n",
    "        \n",
    "        Parameters\n",
    "        ----------\n",
    "        X : (m x n) feature matrix\n",
    "        y: (m x 1) label vector\n",
    "        \n",
    "        \n",
    "        Returns\n",
    "        -------\n",
    "        None\n",
    "        '''\n",
    "        ### Your code here\n",
    "        self.w = np.dot(np.dot(inv(np.dot(X.transpose(),X) + np.diag([self.alpha]* X.shape[1])),X.transpose()),y)\n",
    "        return None\n",
    "        \n",
    "        \n",
    "    def predict(self, X):\n",
    "        '''Predicts on X using trained model.\n",
    "        \n",
    "        Parameters\n",
    "        ----------\n",
    "        X : (m x n) feature matrix\n",
    "        \n",
    "        Returns\n",
    "        -------\n",
    "        y_pred: (m x 1) prediction vector\n",
    "        '''\n",
    "        ### Your code here\n",
    "        return np.dot(X,self.w)"
   ]
  },
  {
   "cell_type": "markdown",
   "id": "c48a741e",
   "metadata": {
    "id": "c48a741e"
   },
   "source": [
    "### Train, Evaluate, and Interpret Linear Regression Model"
   ]
  },
  {
   "cell_type": "markdown",
   "id": "18ae0161",
   "metadata": {
    "id": "18ae0161"
   },
   "source": [
    "**1.11. Train a linear regression model ($\\alpha = 0$) on the auto MPG training data. Make predictions and report the mean-squared error (MSE) on the training, validation, and test sets. Report the first 5 predictions on the test set, along with the actual labels.**"
   ]
  },
  {
   "cell_type": "code",
   "execution_count": null,
   "id": "252db724",
   "metadata": {
    "id": "252db724",
    "outputId": "fa20bf86-adf3-40ed-fb52-531537e34ada"
   },
   "outputs": [
    {
     "name": "stdout",
     "output_type": "stream",
     "text": [
      "X_test predicted values:\n",
      "\n",
      "[ 337807.16803139  604413.25473782 1172057.57353573  533903.11633587\n",
      "  992617.94209279]\n",
      "\n",
      "y_test values:\n",
      "\n",
      "5102    475000\n",
      "6876    400000\n",
      "2949    750000\n",
      "5574    530000\n",
      "323     650000\n",
      "Name: selling_price, dtype: int64\n",
      "\n",
      "MSE:\n",
      "Training error: 207076071232.94363\n",
      "Validation error: 210246361875.17654\n",
      "Test error: 228031934532.95898\n"
     ]
    }
   ],
   "source": [
    "### Your code here\n",
    "linear_regression = LinearRegression()\n",
    "linear_regression.train(auto_mpg_X_train,auto_mpg_y_train)\n",
    "train_output = linear_regression.predict(auto_mpg_X_train)\n",
    "val_output = linear_regression.predict(auto_mpg_X_val)\n",
    "test_output = linear_regression.predict(auto_mpg_X_test)\n",
    "print(\"X_test predicted values:\\n\")\n",
    "print(test_output[0:5])\n",
    "print('')\n",
    "print(\"y_test values:\\n\")\n",
    "print(auto_mpg_y_test[0:5])\n",
    "print('')\n",
    "print('MSE:')\n",
    "print(\"Training error:\",np.mean((auto_mpg_y_train - train_output)**2))\n",
    "print(\"Validation error:\",np.mean((auto_mpg_y_val - val_output)**2))\n",
    "print(\"Test error:\",np.mean((auto_mpg_y_test - test_output)**2))"
   ]
  },
  {
   "cell_type": "markdown",
   "id": "9fad4d6f",
   "metadata": {
    "id": "9fad4d6f"
   },
   "source": [
    "**As a baseline model, use the mean of the training labels (auto_mpg_y_train) as the prediction for all instances. Report the mean-squared error (MSE) on the training, validation, and test sets using this baseline.** This is a common baseline used in regression problems and tells you if your model is any good. Your linear regression MSEs should be much lower than these baseline MSEs."
   ]
  },
  {
   "cell_type": "code",
   "execution_count": null,
   "id": "74d948c5",
   "metadata": {
    "id": "74d948c5",
    "outputId": "0c6b2f97-b3d9-45da-b9cb-9231893ca7eb"
   },
   "outputs": [
    {
     "name": "stdout",
     "output_type": "stream",
     "text": [
      "Baseline - mean of tarining labels: 651807.7020872865\n",
      "Training error: 440618957309.83344\n",
      "Validation error: 418995450442.0767\n",
      "Test error: 462489986624.84076\n"
     ]
    }
   ],
   "source": [
    "### Your code here\n",
    "print(\"Baseline - mean of tarining labels:\",np.mean(auto_mpg_y_train))\n",
    "print(\"Training error:\",np.mean((np.mean(auto_mpg_y_train) - train_output)**2))\n",
    "print(\"Validation error:\",np.mean((np.mean(auto_mpg_y_train) - val_output)**2))\n",
    "print(\"Test error:\",np.mean((np.mean(auto_mpg_y_train) - test_output)**2))"
   ]
  },
  {
   "cell_type": "markdown",
   "id": "726f5bb6",
   "metadata": {
    "id": "726f5bb6"
   },
   "source": [
    "**1.12. Interpret your model trained on the auto MPG dataset using a bar chart of the model weights.** Make sure to label the bars (x-axis) and don't forget the bias term! Use lecture 3, slide 15 as a reference. **According to your model, which features are the greatest contributors to the selling price?**"
   ]
  },
  {
   "cell_type": "code",
   "execution_count": null,
   "id": "33a36f38",
   "metadata": {
    "id": "33a36f38"
   },
   "outputs": [],
   "source": [
    "### Your answer here\n",
    "l1 = ['bias']\n",
    "l1.extend(auto_mpg_X.columns)"
   ]
  },
  {
   "cell_type": "code",
   "execution_count": null,
   "id": "9fccabaa",
   "metadata": {
    "id": "9fccabaa",
    "outputId": "d853e4cf-c138-45ce-84ec-43c181d1b09a"
   },
   "outputs": [
    {
     "data": {
      "image/png": "[encoded data removed]",
      "text/plain": [
       "<Figure size 1080x720 with 1 Axes>"
      ]
     },
     "metadata": {
      "needs_background": "light"
     },
     "output_type": "display_data"
    }
   ],
   "source": [
    "### Your code here\n",
    "fig = plt.figure(figsize = (15,10))\n",
    "plt.barh(y = l1,width = linear_regression.w)\n",
    "plt.tight_layout()\n",
    "plt.xlabel('Model Weights')\n",
    "plt.ylabel('Variable')\n",
    "plt.show()"
   ]
  },
  {
   "cell_type": "markdown",
   "id": "7dda1f96",
   "metadata": {
    "id": "7dda1f96"
   },
   "source": [
    "Answer would be different for different random state. Based on the above plot, max_power and km_driven are greatest contributor."
   ]
  },
  {
   "cell_type": "markdown",
   "id": "c12c284a",
   "metadata": {
    "id": "c12c284a"
   },
   "source": [
    "### Tune Regularization Parameter $\\alpha$"
   ]
  },
  {
   "cell_type": "markdown",
   "id": "2a3e73e6",
   "metadata": {
    "id": "2a3e73e6"
   },
   "source": [
    "Now, let's do ridge regression and tune the $\\alpha$ regularization parameter on the auto MPG dataset.\n",
    "\n",
    "**1.13. Sweep out values for $\\alpha$ using `alphas = np.logspace(-2, 1, 10)`. Perform a grid search over these $\\alpha$ values, recording the training and validation MSEs for each $\\alpha$. A simple grid search is fine, no need for k-fold cross validation. Plot the training and validation MSEs as a function of $\\alpha$ on a single figure. Make sure to label the axes and the training and validation MSE curves. Use a log scale for the x-axis.**"
   ]
  },
  {
   "cell_type": "code",
   "execution_count": null,
   "id": "97cb6245",
   "metadata": {
    "id": "97cb6245",
    "outputId": "554f53be-b23b-4734-abd7-ad98c142bcae"
   },
   "outputs": [
    {
     "data": {
      "image/png": "[encoded data removed]",
      "text/plain": [
       "<Figure size 648x360 with 1 Axes>"
      ]
     },
     "metadata": {
      "needs_background": "light"
     },
     "output_type": "display_data"
    }
   ],
   "source": [
    "### Your code here\n",
    "train_mse = []\n",
    "val_mse = []\n",
    "test_mse = []\n",
    "alphas = np.logspace(-2, 1, 10)\n",
    "\n",
    "for i in alphas:\n",
    "    linear_regression = LinearRegression(alpha = i)\n",
    "    linear_regression.train(auto_mpg_X_train,auto_mpg_y_train)\n",
    "    train_output = linear_regression.predict(auto_mpg_X_train)\n",
    "    val_output = linear_regression.predict(auto_mpg_X_val)\n",
    "    test_output = linear_regression.predict(auto_mpg_X_test)\n",
    "    train_mse.append(np.mean((auto_mpg_y_train - train_output)**2))\n",
    "    val_mse.append(np.mean((auto_mpg_y_val - val_output)**2))\n",
    "    test_mse.append(np.mean((auto_mpg_y_test - test_output)**2))\n",
    "\n",
    "fig = plt.figure(figsize = (9,5))\n",
    "plt.plot(np.log(alphas),train_mse, label = \"Training MSE\")\n",
    "plt.plot(np.log(alphas),val_mse, label = \"Validation MSE\")\n",
    "plt.xlabel('alpha')\n",
    "plt.ylabel('MSE')\n",
    "plt.legend()\n",
    "plt.show()\n"
   ]
  },
  {
   "cell_type": "markdown",
   "id": "bcc61366",
   "metadata": {
    "id": "bcc61366"
   },
   "source": [
    "**Explain your plot above. How do training and validation MSE behave with decreasing model complexity (increasing $\\alpha$)?**"
   ]
  },
  {
   "cell_type": "code",
   "execution_count": null,
   "id": "170c66bd",
   "metadata": {
    "id": "170c66bd",
    "outputId": "9573fff0-b07c-40f2-806f-ece364f89496"
   },
   "outputs": [
    {
     "data": {
      "text/plain": [
       "'When model complexity is high (low alpha), we overfit the training data, as indicated\\nby a low training MSE but high validation MSE. As model complexity decreases, we see\\nthe validation MSE decreasing up to a point. But as model complexity decreases further,\\nboth the training and validation MSE increase rapidly.'"
      ]
     },
     "execution_count": 223,
     "metadata": {},
     "output_type": "execute_result"
    }
   ],
   "source": [
    "### Your answer here\n",
    "'''When model complexity is high (low alpha), we overfit the training data, as indicated\n",
    "by a low training MSE but high validation MSE. As model complexity decreases, we see\n",
    "the validation MSE decreasing up to a point. But as model complexity decreases further,\n",
    "both the training and validation MSE increase rapidly.'''"
   ]
  },
  {
   "cell_type": "markdown",
   "id": "faf60747",
   "metadata": {
    "id": "faf60747"
   },
   "source": [
    "**1.14. Using the $\\alpha$ which gave the best validation MSE above, train a model on the training set. Report the value of $\\alpha$ and its training, validation, and test MSE.** This is the final tuned model which you would deploy in production."
   ]
  },
  {
   "cell_type": "code",
   "execution_count": null,
   "id": "4ec8f5a1",
   "metadata": {
    "id": "4ec8f5a1",
    "outputId": "90c4fa86-4541-472f-f61d-0e05ebe31517"
   },
   "outputs": [
    {
     "name": "stdout",
     "output_type": "stream",
     "text": [
      "The best validation error is for alpha: 1e-05\n",
      "Training error: 207076071232.99255\n",
      "Validation error: 210246371945.11417\n",
      "Test error: 228031944365.2114\n"
     ]
    }
   ],
   "source": [
    "### Your code here\n",
    "print('The best validation error is for alpha:',alphas[0])\n",
    "linear_regression = LinearRegression(alpha = alphas[0])\n",
    "linear_regression.train(auto_mpg_X_train,auto_mpg_y_train)\n",
    "train_output = linear_regression.predict(auto_mpg_X_train)\n",
    "val_output = linear_regression.predict(auto_mpg_X_val)\n",
    "test_output = linear_regression.predict(auto_mpg_X_test)\n",
    "print(\"Training error:\",np.mean((auto_mpg_y_train - train_output)**2))\n",
    "print(\"Validation error:\",np.mean((auto_mpg_y_val - val_output)**2))\n",
    "print(\"Test error:\",np.mean((auto_mpg_y_test - test_output)**2))\n"
   ]
  },
  {
   "cell_type": "markdown",
   "id": "e94794e4",
   "metadata": {
    "id": "e94794e4"
   },
   "source": [
    "# **Part 2: Logistic Regression**\n",
    "\n",
    "Gender Recognition by Voice and Speech Analysis\n",
    "\n",
    "This dataset is used to identify a voice as male or female, based upon acoustic properties of the voice and speech."
   ]
  },
  {
   "cell_type": "code",
   "execution_count": null,
   "id": "4255610f",
   "metadata": {
    "id": "4255610f"
   },
   "outputs": [],
   "source": [
    "import pandas as pd\n",
    "import random\n",
    "import numpy as np\n",
    "import matplotlib.pyplot as plot\n",
    "from sklearn.model_selection import train_test_split\n",
    "from sklearn.preprocessing import OrdinalEncoder, StandardScaler\n",
    "from sklearn.preprocessing import MinMaxScaler\n",
    "from sklearn.svm import SVC\n",
    "from sklearn.compose import ColumnTransformer\n",
    "import matplotlib.pyplot as plt\n",
    "from sklearn.metrics import accuracy_score\n",
    "from sklearn.compose import make_column_transformer\n",
    "import seaborn as sns\n",
    "from sklearn.pipeline import make_pipeline\n",
    "from sklearn.model_selection import cross_val_score,StratifiedKFold\n",
    "%matplotlib inline"
   ]
  },
  {
   "cell_type": "code",
   "execution_count": null,
   "id": "31214cda",
   "metadata": {
    "colab": {
     "base_uri": "https://localhost:8080/",
     "height": 270
    },
    "id": "31214cda",
    "outputId": "f2a50c4a-e591-4cb9-a1cc-1b6ae695ec51"
   },
   "outputs": [
    {
     "data": {
      "text/html": [
       "\n",
       "  <div id=\"df-2fbb2f09-721c-4068-af15-997df6b01898\">\n",
       "    <div class=\"colab-df-container\">\n",
       "      <div>\n",
       "<style scoped>\n",
       "    .dataframe tbody tr th:only-of-type {\n",
       "        vertical-align: middle;\n",
       "    }\n",
       "\n",
       "    .dataframe tbody tr th {\n",
       "        vertical-align: top;\n",
       "    }\n",
       "\n",
       "    .dataframe thead th {\n",
       "        text-align: right;\n",
       "    }\n",
       "</style>\n",
       "<table border=\"1\" class=\"dataframe\">\n",
       "  <thead>\n",
       "    <tr style=\"text-align: right;\">\n",
       "      <th></th>\n",
       "      <th>meanfreq</th>\n",
       "      <th>sd</th>\n",
       "      <th>median</th>\n",
       "      <th>Q25</th>\n",
       "      <th>Q75</th>\n",
       "      <th>IQR</th>\n",
       "      <th>skew</th>\n",
       "      <th>kurt</th>\n",
       "      <th>sp.ent</th>\n",
       "      <th>sfm</th>\n",
       "      <th>mode</th>\n",
       "      <th>centroid</th>\n",
       "      <th>meanfun</th>\n",
       "      <th>minfun</th>\n",
       "      <th>maxfun</th>\n",
       "      <th>meandom</th>\n",
       "      <th>mindom</th>\n",
       "      <th>maxdom</th>\n",
       "      <th>dfrange</th>\n",
       "      <th>modindx</th>\n",
       "      <th>label</th>\n",
       "    </tr>\n",
       "  </thead>\n",
       "  <tbody>\n",
       "    <tr>\n",
       "      <th>0</th>\n",
       "      <td>0.059781</td>\n",
       "      <td>0.064241</td>\n",
       "      <td>0.032027</td>\n",
       "      <td>0.015071</td>\n",
       "      <td>0.090193</td>\n",
       "      <td>0.075122</td>\n",
       "      <td>12.863462</td>\n",
       "      <td>274.402906</td>\n",
       "      <td>0.893369</td>\n",
       "      <td>0.491918</td>\n",
       "      <td>0.000000</td>\n",
       "      <td>0.059781</td>\n",
       "      <td>0.084279</td>\n",
       "      <td>0.015702</td>\n",
       "      <td>0.275862</td>\n",
       "      <td>0.007812</td>\n",
       "      <td>0.007812</td>\n",
       "      <td>0.007812</td>\n",
       "      <td>0.000000</td>\n",
       "      <td>0.000000</td>\n",
       "      <td>male</td>\n",
       "    </tr>\n",
       "    <tr>\n",
       "      <th>1</th>\n",
       "      <td>0.066009</td>\n",
       "      <td>0.067310</td>\n",
       "      <td>0.040229</td>\n",
       "      <td>0.019414</td>\n",
       "      <td>0.092666</td>\n",
       "      <td>0.073252</td>\n",
       "      <td>22.423285</td>\n",
       "      <td>634.613855</td>\n",
       "      <td>0.892193</td>\n",
       "      <td>0.513724</td>\n",
       "      <td>0.000000</td>\n",
       "      <td>0.066009</td>\n",
       "      <td>0.107937</td>\n",
       "      <td>0.015826</td>\n",
       "      <td>0.250000</td>\n",
       "      <td>0.009014</td>\n",
       "      <td>0.007812</td>\n",
       "      <td>0.054688</td>\n",
       "      <td>0.046875</td>\n",
       "      <td>0.052632</td>\n",
       "      <td>male</td>\n",
       "    </tr>\n",
       "    <tr>\n",
       "      <th>2</th>\n",
       "      <td>0.077316</td>\n",
       "      <td>0.083829</td>\n",
       "      <td>0.036718</td>\n",
       "      <td>0.008701</td>\n",
       "      <td>0.131908</td>\n",
       "      <td>0.123207</td>\n",
       "      <td>30.757155</td>\n",
       "      <td>1024.927705</td>\n",
       "      <td>0.846389</td>\n",
       "      <td>0.478905</td>\n",
       "      <td>0.000000</td>\n",
       "      <td>0.077316</td>\n",
       "      <td>0.098706</td>\n",
       "      <td>0.015656</td>\n",
       "      <td>0.271186</td>\n",
       "      <td>0.007990</td>\n",
       "      <td>0.007812</td>\n",
       "      <td>0.015625</td>\n",
       "      <td>0.007812</td>\n",
       "      <td>0.046512</td>\n",
       "      <td>male</td>\n",
       "    </tr>\n",
       "    <tr>\n",
       "      <th>3</th>\n",
       "      <td>0.151228</td>\n",
       "      <td>0.072111</td>\n",
       "      <td>0.158011</td>\n",
       "      <td>0.096582</td>\n",
       "      <td>0.207955</td>\n",
       "      <td>0.111374</td>\n",
       "      <td>1.232831</td>\n",
       "      <td>4.177296</td>\n",
       "      <td>0.963322</td>\n",
       "      <td>0.727232</td>\n",
       "      <td>0.083878</td>\n",
       "      <td>0.151228</td>\n",
       "      <td>0.088965</td>\n",
       "      <td>0.017798</td>\n",
       "      <td>0.250000</td>\n",
       "      <td>0.201497</td>\n",
       "      <td>0.007812</td>\n",
       "      <td>0.562500</td>\n",
       "      <td>0.554688</td>\n",
       "      <td>0.247119</td>\n",
       "      <td>male</td>\n",
       "    </tr>\n",
       "    <tr>\n",
       "      <th>4</th>\n",
       "      <td>0.135120</td>\n",
       "      <td>0.079146</td>\n",
       "      <td>0.124656</td>\n",
       "      <td>0.078720</td>\n",
       "      <td>0.206045</td>\n",
       "      <td>0.127325</td>\n",
       "      <td>1.101174</td>\n",
       "      <td>4.333713</td>\n",
       "      <td>0.971955</td>\n",
       "      <td>0.783568</td>\n",
       "      <td>0.104261</td>\n",
       "      <td>0.135120</td>\n",
       "      <td>0.106398</td>\n",
       "      <td>0.016931</td>\n",
       "      <td>0.266667</td>\n",
       "      <td>0.712812</td>\n",
       "      <td>0.007812</td>\n",
       "      <td>5.484375</td>\n",
       "      <td>5.476562</td>\n",
       "      <td>0.208274</td>\n",
       "      <td>male</td>\n",
       "    </tr>\n",
       "  </tbody>\n",
       "</table>\n",
       "</div>\n",
       "      <button class=\"colab-df-convert\" onclick=\"convertToInteractive('df-2fbb2f09-721c-4068-af15-997df6b01898')\"\n",
       "              title=\"Convert this dataframe to an interactive table.\"\n",
       "              style=\"display:none;\">\n",
       "        \n",
       "  <svg xmlns=\"http://www.w3.org/2000/svg\" height=\"24px\"viewBox=\"0 0 24 24\"\n",
       "       width=\"24px\">\n",
       "    <path d=\"M0 0h24v24H0V0z\" fill=\"none\"/>\n",
       "    <path d=\"M18.56 5.44l.94 2.06.94-2.06 2.06-.94-2.06-.94-.94-2.06-.94 2.06-2.06.94zm-11 1L8.5 8.5l.94-2.06 2.06-.94-2.06-.94L8.5 2.5l-.94 2.06-2.06.94zm10 10l.94 2.06.94-2.06 2.06-.94-2.06-.94-.94-2.06-.94 2.06-2.06.94z\"/><path d=\"M17.41 7.96l-1.37-1.37c-.4-.4-.92-.59-1.43-.59-.52 0-1.04.2-1.43.59L10.3 9.45l-7.72 7.72c-.78.78-.78 2.05 0 2.83L4 21.41c.39.39.9.59 1.41.59.51 0 1.02-.2 1.41-.59l7.78-7.78 2.81-2.81c.8-.78.8-2.07 0-2.86zM5.41 20L4 18.59l7.72-7.72 1.47 1.35L5.41 20z\"/>\n",
       "  </svg>\n",
       "      </button>\n",
       "      \n",
       "  <style>\n",
       "    .colab-df-container {\n",
       "      display:flex;\n",
       "      flex-wrap:wrap;\n",
       "      gap: 12px;\n",
       "    }\n",
       "\n",
       "    .colab-df-convert {\n",
       "      background-color: #E8F0FE;\n",
       "      border: none;\n",
       "      border-radius: 50%;\n",
       "      cursor: pointer;\n",
       "      display: none;\n",
       "      fill: #1967D2;\n",
       "      height: 32px;\n",
       "      padding: 0 0 0 0;\n",
       "      width: 32px;\n",
       "    }\n",
       "\n",
       "    .colab-df-convert:hover {\n",
       "      background-color: #E2EBFA;\n",
       "      box-shadow: 0px 1px 2px rgba(60, 64, 67, 0.3), 0px 1px 3px 1px rgba(60, 64, 67, 0.15);\n",
       "      fill: #174EA6;\n",
       "    }\n",
       "\n",
       "    [theme=dark] .colab-df-convert {\n",
       "      background-color: #3B4455;\n",
       "      fill: #D2E3FC;\n",
       "    }\n",
       "\n",
       "    [theme=dark] .colab-df-convert:hover {\n",
       "      background-color: #434B5C;\n",
       "      box-shadow: 0px 1px 3px 1px rgba(0, 0, 0, 0.15);\n",
       "      filter: drop-shadow(0px 1px 2px rgba(0, 0, 0, 0.3));\n",
       "      fill: #FFFFFF;\n",
       "    }\n",
       "  </style>\n",
       "\n",
       "      <script>\n",
       "        const buttonEl =\n",
       "          document.querySelector('#df-2fbb2f09-721c-4068-af15-997df6b01898 button.colab-df-convert');\n",
       "        buttonEl.style.display =\n",
       "          google.colab.kernel.accessAllowed ? 'block' : 'none';\n",
       "\n",
       "        async function convertToInteractive(key) {\n",
       "          const element = document.querySelector('#df-2fbb2f09-721c-4068-af15-997df6b01898');\n",
       "          const dataTable =\n",
       "            await google.colab.kernel.invokeFunction('convertToInteractive',\n",
       "                                                     [key], {});\n",
       "          if (!dataTable) return;\n",
       "\n",
       "          const docLinkHtml = 'Like what you see? Visit the ' +\n",
       "            '<a target=\"_blank\" href=https://colab.research.google.com/notebooks/data_table.ipynb>data table notebook</a>'\n",
       "            + ' to learn more about interactive tables.';\n",
       "          element.innerHTML = '';\n",
       "          dataTable['output_type'] = 'display_data';\n",
       "          await google.colab.output.renderOutput(dataTable, element);\n",
       "          const docLink = document.createElement('div');\n",
       "          docLink.innerHTML = docLinkHtml;\n",
       "          element.appendChild(docLink);\n",
       "        }\n",
       "      </script>\n",
       "    </div>\n",
       "  </div>\n",
       "  "
      ],
      "text/plain": [
       "   meanfreq        sd    median       Q25  ...    maxdom   dfrange   modindx  label\n",
       "0  0.059781  0.064241  0.032027  0.015071  ...  0.007812  0.000000  0.000000   male\n",
       "1  0.066009  0.067310  0.040229  0.019414  ...  0.054688  0.046875  0.052632   male\n",
       "2  0.077316  0.083829  0.036718  0.008701  ...  0.015625  0.007812  0.046512   male\n",
       "3  0.151228  0.072111  0.158011  0.096582  ...  0.562500  0.554688  0.247119   male\n",
       "4  0.135120  0.079146  0.124656  0.078720  ...  5.484375  5.476562  0.208274   male\n",
       "\n",
       "[5 rows x 21 columns]"
      ]
     },
     "execution_count": 59,
     "metadata": {},
     "output_type": "execute_result"
    }
   ],
   "source": [
    "voice_df = pd.read_csv(\"voice-classification.csv\")\n",
    "voice_df.head()"
   ]
  },
  {
   "cell_type": "markdown",
   "id": "4429bed3",
   "metadata": {
    "id": "4429bed3"
   },
   "source": [
    "**Data - Checking Rows & Columns**"
   ]
  },
  {
   "cell_type": "code",
   "execution_count": null,
   "id": "dce5f373",
   "metadata": {
    "colab": {
     "base_uri": "https://localhost:8080/"
    },
    "id": "dce5f373",
    "outputId": "d61d3bae-b58a-4246-dc2a-dd6d03159ece"
   },
   "outputs": [
    {
     "name": "stdout",
     "output_type": "stream",
     "text": [
      "(3168, 21)\n"
     ]
    }
   ],
   "source": [
    "#Number of Rows & Columns\n",
    "print(voice_df.shape) "
   ]
  },
  {
   "cell_type": "markdown",
   "id": "f65b8642",
   "metadata": {
    "id": "f65b8642"
   },
   "source": [
    "**2.1 What is the probability of observing different  categories in the Label feature of the dataset?**\n",
    "\n",
    "This is mainly to check class imbalance in the dataset, and to apply different techniques to balance the dataset, which we will learn later."
   ]
  },
  {
   "cell_type": "code",
   "execution_count": null,
   "id": "e9a3d0f0",
   "metadata": {
    "colab": {
     "base_uri": "https://localhost:8080/"
    },
    "id": "e9a3d0f0",
    "outputId": "c0c9a81e-c8f2-4225-d0fe-200ef005f0d6"
   },
   "outputs": [
    {
     "name": "stdout",
     "output_type": "stream",
     "text": [
      "male      0.5\n",
      "female    0.5\n",
      "Name: label, dtype: float64\n",
      "The Probability of observing Male is 0.5\n",
      "\n"
     ]
    }
   ],
   "source": [
    "#code here\n",
    "#Finding distribution of labels in the dataset\n",
    "\n",
    "print(voice_df[\"label\"].value_counts(normalize=True))\n",
    "print(\"The Probability of observing Male is\", voice_df[\"label\"].value_counts().max()/voice_df.count()[0])\n",
    "print()"
   ]
  },
  {
   "cell_type": "markdown",
   "id": "24641392",
   "metadata": {
    "id": "24641392"
   },
   "source": [
    "**2.2 Plot the relationships between the label and the 20 numerical features using a small multiple of box plots. Make sure to label the axes. What useful information do this plot provide?**"
   ]
  },
  {
   "cell_type": "code",
   "execution_count": null,
   "id": "61695fa2",
   "metadata": {
    "colab": {
     "base_uri": "https://localhost:8080/",
     "height": 995
    },
    "id": "61695fa2",
    "outputId": "738517c9-c099-4670-8287-785de5798988"
   },
   "outputs": [
    {
     "data": {
      "image/png": "[encoded data removed]",
      "text/plain": [
       "<Figure size 2160x2160 with 20 Axes>"
      ]
     },
     "metadata": {
      "needs_background": "light"
     },
     "output_type": "display_data"
    }
   ],
   "source": [
    "#code here\n",
    "features = voice_df.columns\n",
    "fig, axes = plt.subplots(5, 4, figsize=(30, 30))\n",
    "count=0\n",
    "for i in range(0,5):\n",
    "    for j in range(0,4):\n",
    "        sns.boxplot(ax=axes[i][j], x=features[count], y=voice_df[\"label\"], data=voice_df)\n",
    "        count = count + 1\n",
    "\n",
    "#Any information w.r.t. to Outliers observed or distribution of labels with respect to features. "
   ]
  },
  {
   "cell_type": "markdown",
   "id": "c0ec6caf",
   "metadata": {
    "id": "c0ec6caf"
   },
   "source": [
    "**2.3 Plot the correlation matrix, and check if there is high correlation between the given numerical features (Threshold >=0.9). If yes, drop those highly correlated features from the dataframe. Why is necessary to drop those columns before proceeding further?** *italicized text*"
   ]
  },
  {
   "cell_type": "code",
   "execution_count": null,
   "id": "e6b5f696",
   "metadata": {
    "colab": {
     "base_uri": "https://localhost:8080/",
     "height": 636
    },
    "id": "e6b5f696",
    "outputId": "f9c5e7b6-601f-4d2b-ca0d-1f0ffc880b17"
   },
   "outputs": [
    {
     "data": {
      "image/png": "[encoded data removed]",
      "text/plain": [
       "<Figure size 864x720 with 2 Axes>"
      ]
     },
     "metadata": {
      "needs_background": "light"
     },
     "output_type": "display_data"
    }
   ],
   "source": [
    "#code here\n",
    "#Using Pearson Correlation\n",
    "plt.figure(figsize=(12,10))\n",
    "cor_matrix = voice_df.corr().abs()\n",
    "sns.heatmap(cor_matrix, annot=True, cmap=plt.cm.Reds)\n",
    "plt.show()"
   ]
  },
  {
   "cell_type": "code",
   "execution_count": null,
   "id": "0a0e76d4",
   "metadata": {
    "colab": {
     "base_uri": "https://localhost:8080/"
    },
    "id": "0a0e76d4",
    "outputId": "e9e4ea22-7bf9-4692-db96-7e02258f0cc4"
   },
   "outputs": [
    {
     "name": "stdout",
     "output_type": "stream",
     "text": [
      "['median', 'Q25', 'kurt', 'centroid', 'dfrange']\n",
      "Index(['meanfreq', 'sd', 'Q75', 'IQR', 'skew', 'sp.ent', 'sfm', 'mode',\n",
      "       'meanfun', 'minfun', 'maxfun', 'meandom', 'mindom', 'maxdom', 'modindx',\n",
      "       'label'],\n",
      "      dtype='object')\n"
     ]
    }
   ],
   "source": [
    "upper_tri = cor_matrix.where(np.triu(np.ones(cor_matrix.shape),k=1).astype(np.bool))\n",
    "to_drop = [column for column in upper_tri.columns if any(upper_tri[column] > 0.90)]\n",
    "print(to_drop)\n",
    "voice_df1 = voice_df.drop(columns=to_drop)\n",
    "print(voice_df1.columns)\n",
    "\n",
    "#Redundant information\n",
    "#Similar features will not benefit model to learn something unique. \n"
   ]
  },
  {
   "cell_type": "markdown",
   "id": "e1a8e606",
   "metadata": {
    "id": "e1a8e606"
   },
   "source": [
    "**2.4 Separating Features & Y variable from the processed dataset**"
   ]
  },
  {
   "cell_type": "code",
   "execution_count": null,
   "id": "889644c0",
   "metadata": {
    "colab": {
     "base_uri": "https://localhost:8080/"
    },
    "id": "889644c0",
    "outputId": "3e291f6d-82b5-4365-b997-e5f4be556b63"
   },
   "outputs": [
    {
     "name": "stdout",
     "output_type": "stream",
     "text": [
      "Index(['meanfreq', 'sd', 'Q75', 'IQR', 'skew', 'sp.ent', 'sfm', 'mode',\n",
      "       'meanfun', 'minfun', 'maxfun', 'meandom', 'mindom', 'maxdom',\n",
      "       'modindx'],\n",
      "      dtype='object')\n"
     ]
    }
   ],
   "source": [
    "# Split data into features and labels\n",
    "voice_X = voice_df1.drop(columns=['label'])\n",
    "voice_y = voice_df1['label']\n",
    "print(voice_X.columns)"
   ]
  },
  {
   "cell_type": "markdown",
   "id": "8d39edaa",
   "metadata": {
    "id": "8d39edaa"
   },
   "source": [
    "**2.5 Apply the following pre-processing steps:**\n",
    "\n",
    "1) Use OrdinalEncoding to encode the label in the dataset (male & female)\n",
    "\n",
    "2) Convert the label from a Pandas series to a Numpy (m x 1) vector. If you don't do this, it may cause problems when implementing the logistic regression model.\n",
    "\n",
    "3)Split the dataset into training (60%), validation (20%), and test (20%) sets.\n",
    "\n",
    "4) Standardize the columns in the feature matrices. To avoid information leakage, learn the standardization parameters from training, and then apply training, validation and test dataset.\n",
    "\n",
    "5) Add a column of ones to the feature matrices of train, validation and test dataset. This is a common trick so that we can learn a coefficient for the bias term of a linear model."
   ]
  },
  {
   "cell_type": "code",
   "execution_count": null,
   "id": "8fa0ed62",
   "metadata": {
    "colab": {
     "base_uri": "https://localhost:8080/"
    },
    "id": "8fa0ed62",
    "outputId": "7dbcf41d-c4f2-4b6a-e144-72e8c0a7aba3"
   },
   "outputs": [
    {
     "name": "stdout",
     "output_type": "stream",
     "text": [
      "(1900, 16) (1900, 1)\n",
      "(634, 16) (634, 1)\n",
      "(634, 16) (634, 1)\n"
     ]
    }
   ],
   "source": [
    "#code here\n",
    "\n",
    "#OrdinalEncoding for Label\n",
    "#Scaling \n",
    "\n",
    "encoder = OrdinalEncoder()\n",
    "voice_y_encoded = encoder.fit_transform(np.reshape(np.array(voice_y),(-1,1)))\n",
    "\n",
    "# 2. Split the dataset into training (60%), validation (20%), and test (20%) sets\n",
    "voice_X_dev, voice_X_test, voice_y_dev, voice_y_test = train_test_split(voice_X, voice_y_encoded, test_size=0.2, random_state=0)\n",
    "voice_X_train, voice_X_val, voice_y_train, voice_y_val = train_test_split(voice_X_dev, voice_y_dev, test_size=0.25, random_state=0)\n",
    "\n",
    "\n",
    "# 3. Standardize the columns in the feature matrices\n",
    "scaler = StandardScaler()\n",
    "voice_X_train = scaler.fit_transform(voice_X_train)   # Fit and transform scalar on X_train\n",
    "voice_X_val = scaler.transform(voice_X_val)           # Transform X_val\n",
    "voice_X_test = scaler.transform(voice_X_test)         # Transform X_test\n",
    "\n",
    "# 4. Add a column of ones to the feature matrices\n",
    "voice_X_train = np.hstack([np.ones((voice_X_train.shape[0], 1)), voice_X_train])\n",
    "voice_X_val = np.hstack([np.ones((voice_X_val.shape[0], 1)), voice_X_val])\n",
    "voice_X_test = np.hstack([np.ones((voice_X_test.shape[0], 1)), voice_X_test])\n",
    "\n",
    "print(voice_X_train.shape, voice_y_train.shape)\n",
    "print(voice_X_val.shape, voice_y_val.shape)\n",
    "print(voice_X_test.shape, voice_y_test.shape)"
   ]
  },
  {
   "cell_type": "markdown",
   "id": "21d04c2d",
   "metadata": {
    "id": "21d04c2d"
   },
   "source": [
    "**2.5 Implement Logistic Regression**\n",
    "\n",
    "We will now implement logistic regression with L2 regularization. Given an (m x n) feature matrix $X$, an (m x 1) label vector $y$, and an (n x 1) weight vector $w$, the hypothesis function for logistic regression is:\n",
    "\n",
    "$$\n",
    "y = \\sigma(X w)\n",
    "$$\n",
    "\n",
    "where $\\sigma(x) = \\frac{1}{1 + e^{-x}}$, i.e. the sigmoid function. This function scales the prediction to be a probability between 0 and 1, and can then be thresholded to get a discrete class prediction.\n",
    "\n",
    "Just as with linear regression, our objective in logistic regression is to learn the weights $𝑤$ which best fit the data. For L2-regularized logistic regression, we find an optimal $w$ to minimize the following loss function:\n",
    "\n",
    "$$\n",
    "\\min_{w} \\ -y^T \\ \\text{log}(\\sigma(Xw)) \\ - \\  (\\mathbf{1} - y)^T \\ \\text{log}(\\mathbf{1} - \\sigma(Xw)) \\ + \\ \\alpha \\| w \\|^2_2 \\\\\n",
    "$$\n",
    "\n",
    "Unlike linear regression, however, logistic regression has no closed-form solution for the optimal $w$. So, we will use gradient descent to find the optimal $w$. The (n x 1) gradient vector $g$ for the loss function above is:\n",
    "\n",
    "$$\n",
    "g = X^T \\Big(\\sigma(Xw) - y\\Big) + 2 \\alpha w\n",
    "$$\n",
    "\n",
    "Below is pseudocode for gradient descent to find the optimal $w$. You should first initialize $w$ (e.g. to a (n x 1) zero vector). Then, for some number of epochs $t$, you should update $w$ with $w - \\eta g $, where $\\eta$ is the learning rate and $g$ is the gradient. You can learn more about gradient descent [here](https://www.coursera.org/lecture/machine-learning/gradient-descent-8SpIM).\n",
    "\n",
    "> $w = \\mathbf{0}$\n",
    "> \n",
    "> $\\text{for } i = 1, 2, ..., t$\n",
    ">\n",
    "> $\\quad \\quad w = w - \\eta g $\n"
   ]
  },
  {
   "cell_type": "markdown",
   "id": "d9fcf5d5",
   "metadata": {
    "id": "d9fcf5d5"
   },
   "source": [
    "Implement a LogisticRegression class with five methods: train, predict, calculate_loss, calculate_gradient, and calculate_sigmoid. **You may NOT use sklearn for this implementation. It is highly recommended that you vectorize your code.**"
   ]
  },
  {
   "cell_type": "code",
   "execution_count": null,
   "id": "52a94733",
   "metadata": {
    "id": "52a94733"
   },
   "outputs": [],
   "source": [
    "class LogisticRegression():\n",
    "    '''\n",
    "    Logistic regression model with L2 regularization.\n",
    "\n",
    "    Attributes\n",
    "    ----------\n",
    "    alpha: regularization parameter\n",
    "    t: number of epochs to run gradient descent\n",
    "    eta: learning rate for gradient descent\n",
    "    w: (n x 1) weight vector\n",
    "    '''\n",
    "    \n",
    "    def __init__(self, alpha, t, eta):\n",
    "        self.alpha = alpha\n",
    "        self.t = t\n",
    "        self.eta = eta\n",
    "        self.w = None\n",
    "            \n",
    "    def train(self, X, y):\n",
    "        '''Trains logistic regression model using gradient descent \n",
    "        (sets w to its optimal value).\n",
    "        \n",
    "        Parameters\n",
    "        ----------\n",
    "        X : (m x n) feature matrix\n",
    "        y: (m x 1) label vector\n",
    "        \n",
    "        Returns\n",
    "        -------\n",
    "        losses: (t x 1) vector of losses at each epoch of gradient descent\n",
    "        '''\n",
    "        ### Your code here\n",
    "        totalLoss = np.array(np.zeros(self.t))\n",
    "        for i in range(self.t):\n",
    "            loss = self.calculate_loss(X, y)\n",
    "            totalLoss[i]=loss\n",
    "            self.calculate_gradient(X,y)\n",
    "        return totalLoss\n",
    "    \n",
    "    def predict(self, X):\n",
    "        '''Predicts on X using trained model. Make sure to threshold \n",
    "        the predicted probability to return a 0 or 1 prediction.\n",
    "        \n",
    "        Parameters\n",
    "        ----------\n",
    "        X : (m x n) feature matrix\n",
    "        \n",
    "        Returns\n",
    "        -------\n",
    "        y_pred: (m x 1) 0/1 prediction vector\n",
    "        '''\n",
    "        ### Your code here\n",
    "        #the thresholding is done below while calling the logistic regression\n",
    "        #Generally you can do the thresholding here too.. \n",
    "        return self.calculate_sigmoid(np.dot(X,self.w))\n",
    "    \n",
    "    def calculate_loss(self, X, y):\n",
    "        '''Calculates the logistic regression loss using X, y, w, \n",
    "        and alpha. Useful as a helper function for train().\n",
    "        \n",
    "        Parameters\n",
    "        ----------\n",
    "        X : (m x n) feature matrix\n",
    "        y: (m x 1) label vector\n",
    "        \n",
    "        Returns\n",
    "        -------\n",
    "        loss: (scalar) logistic regression loss\n",
    "        '''\n",
    "        ### Your code here\n",
    "        total_cost = (-y * np.log(self.predict(X)) - (1 - y) * np.log(1 - (self.predict(X)))).mean() +(self.alpha * np.linalg.norm(self.w,2))\n",
    "        return total_cost\n",
    "    \n",
    "    def calculate_gradient(self, X, y):\n",
    "        '''Calculates the gradient of the logistic regression loss \n",
    "        using X, y, w, and alpha. Useful as a helper function \n",
    "        for train().\n",
    "        \n",
    "        Parameters\n",
    "        ----------\n",
    "        X : (m x n) feature matrix\n",
    "        y: (m x 1) label vector\n",
    "        \n",
    "        Returns\n",
    "        -------\n",
    "        gradient: (n x 1) gradient vector for logistic regression loss\n",
    "        '''\n",
    "        ### Your code here\n",
    "        J =  (np.dot(np.transpose(X), (self.predict(X) - y))) + (2 * self.alpha * self.w)\n",
    "        self.w = self.w - J * self.eta \n",
    "        return (self.w)\n",
    "        \n",
    "    def calculate_sigmoid(self, x):\n",
    "        '''Calculates the sigmoid function on each element in vector x. \n",
    "        Useful as a helper function for predict(), calculate_loss(), \n",
    "        and calculate_gradient().\n",
    "        \n",
    "        Parameters\n",
    "        ----------\n",
    "        x: (m x 1) vector\n",
    "        \n",
    "        Returns\n",
    "        -------\n",
    "        sigmoid_x: (m x 1) vector of sigmoid on each element in x\n",
    "        '''\n",
    "        ### Your code here\n",
    "        return (1/(1+np.exp(-x)))"
   ]
  },
  {
   "cell_type": "markdown",
   "id": "e4b632e3",
   "metadata": {
    "id": "e4b632e3"
   },
   "source": [
    "**2.6 Plot Loss over Epoch and Search the space randomly to find best hyperparameters.**\n",
    "\n",
    "A: Using your implementation above, train a logistic regression model (alpha=0, t=100, eta=1e-3) on the voice recognition training data. Plot the training loss over epochs. Make sure to label your axes. You should see the loss decreasing and start to converge. \n",
    "\n",
    "B: Using alpha between (0,1), eta between(0, 0.001) and t between (0, 100), find the best hyperparameters for LogisticRegression. You can randomly search the space 20 times to find the best hyperparameters.\n",
    "\n",
    "C. Compare accuracy on the test dataset for both the scenarios."
   ]
  },
  {
   "cell_type": "code",
   "execution_count": null,
   "id": "efc9ae78",
   "metadata": {
    "colab": {
     "base_uri": "https://localhost:8080/",
     "height": 331
    },
    "id": "efc9ae78",
    "outputId": "c42a379d-37f4-440c-8578-c6789caec9a5"
   },
   "outputs": [
    {
     "name": "stdout",
     "output_type": "stream",
     "text": [
      "[-0.21414122 -0.07586946  0.18407835  0.47594783  0.87734147 -0.1872868\n",
      "  0.40095762 -0.24165785  0.11385949 -2.46409575  0.2371299  -0.22298039\n",
      "  0.01019554 -0.09920704 -0.00787617 -0.15098148]\n"
     ]
    },
    {
     "data": {
      "image/png": "[encoded data removed]",
      "text/plain": [
       "<Figure size 432x288 with 1 Axes>"
      ]
     },
     "metadata": {
      "needs_background": "light"
     },
     "output_type": "display_data"
    }
   ],
   "source": [
    "eta = 1e-3\n",
    "alpha = 0.0\n",
    "t=100\n",
    "\n",
    "lr_base = LogisticRegression(alpha,t,eta)\n",
    "lr_base.w =np.array(np.zeros(voice_X_train.shape[1]))\n",
    "lr_base.w = np.reshape(lr_base.w,(-1,1))\n",
    "loss = lr_base.train(voice_X_train, voice_y_train)\n",
    "\n",
    "for indx in range(len(loss)):\n",
    "    plt.plot(indx, loss[indx], 'o', color='black');    \n",
    "    plt.xlabel(\"iteration\");\n",
    "    plt.ylabel(\"loss\");\n",
    "    \n",
    "print(lr.w.flatten())"
   ]
  },
  {
   "cell_type": "code",
   "execution_count": null,
   "id": "ad661efd",
   "metadata": {
    "colab": {
     "base_uri": "https://localhost:8080/"
    },
    "id": "ad661efd",
    "outputId": "e10352a3-f084-4584-a798-70470981aa1c"
   },
   "outputs": [
    {
     "name": "stdout",
     "output_type": "stream",
     "text": [
      "Learning Rate 0.0008609904763082925\n",
      "Alpha 0.317274531432748\n",
      "T= 87\n",
      "Validation accuracy 0.9842271293375394\n",
      "\n",
      "\n",
      "Learning Rate 0.0003352150994076844\n",
      "Alpha 0.7654247784025517\n",
      "T= 40\n",
      "Validation accuracy 0.9763406940063092\n",
      "\n",
      "\n",
      "Learning Rate 0.0006622655127708165\n",
      "Alpha 0.8596786066253781\n",
      "T= 35\n",
      "Validation accuracy 0.9779179810725552\n",
      "\n",
      "\n",
      "Learning Rate 0.0007064896005745822\n",
      "Alpha 0.41942129841122755\n",
      "T= 96\n",
      "Validation accuracy 0.9842271293375394\n",
      "\n",
      "\n",
      "Learning Rate 0.0001483529085113332\n",
      "Alpha 0.17224192161150687\n",
      "T= 83\n",
      "Validation accuracy 0.9747634069400631\n",
      "\n",
      "\n",
      "Learning Rate 0.0002661554584616553\n",
      "Alpha 0.22923163893931975\n",
      "T= 27\n",
      "Validation accuracy 0.9668769716088328\n",
      "\n",
      "\n",
      "Learning Rate 0.00043788621967480327\n",
      "Alpha 0.7325066819630763\n",
      "T= 98\n",
      "Validation accuracy 0.9842271293375394\n",
      "\n",
      "\n",
      "Learning Rate 0.00043106156758849123\n",
      "Alpha 0.614399650425752\n",
      "T= 77\n",
      "Validation accuracy 0.9842271293375394\n",
      "\n",
      "\n",
      "Learning Rate 0.000939112592017344\n",
      "Alpha 0.49797959702797145\n",
      "T= 59\n",
      "Validation accuracy 0.9842271293375394\n",
      "\n",
      "\n",
      "Learning Rate 0.0003179614815735412\n",
      "Alpha 0.36557757965876525\n",
      "T= 59\n",
      "Validation accuracy 0.9779179810725552\n",
      "\n",
      "\n",
      "Learning Rate 0.00017140127527757787\n",
      "Alpha 0.004466693820112777\n",
      "T= 23\n",
      "Validation accuracy 0.9495268138801262\n",
      "\n",
      "\n",
      "Learning Rate 7.930091971430131e-06\n",
      "Alpha 0.40296739879587307\n",
      "T= 52\n",
      "Validation accuracy 0.861198738170347\n",
      "\n",
      "\n",
      "Learning Rate 0.0004681244439321659\n",
      "Alpha 0.7496879587991413\n",
      "T= 89\n",
      "Validation accuracy 0.9842271293375394\n",
      "\n",
      "\n",
      "Learning Rate 0.0003312495749754836\n",
      "Alpha 0.3830818578261803\n",
      "T= 80\n",
      "Validation accuracy 0.9794952681388013\n",
      "\n",
      "\n",
      "Learning Rate 0.00029025357042470224\n",
      "Alpha 0.2993455725040931\n",
      "T= 34\n",
      "Validation accuracy 0.9747634069400631\n",
      "\n",
      "\n",
      "Learning Rate 0.0007745875211405539\n",
      "Alpha 0.9320206965804887\n",
      "T= 89\n",
      "Validation accuracy 0.9842271293375394\n",
      "\n",
      "\n",
      "Learning Rate 0.0008070411167933445\n",
      "Alpha 0.8656342134309268\n",
      "T= 54\n",
      "Validation accuracy 0.9842271293375394\n",
      "\n",
      "\n",
      "Learning Rate 0.0004810660954986119\n",
      "Alpha 0.31801080253017955\n",
      "T= 86\n",
      "Validation accuracy 0.9842271293375394\n",
      "\n",
      "\n",
      "Learning Rate 0.0002684852364075283\n",
      "Alpha 0.37741728813621833\n",
      "T= 44\n",
      "Validation accuracy 0.9747634069400631\n",
      "\n",
      "\n",
      "Learning Rate 4.3316867623314105e-05\n",
      "Alpha 0.36426409027392403\n",
      "T= 8\n",
      "Validation accuracy 0.8501577287066246\n",
      "\n",
      "\n"
     ]
    }
   ],
   "source": [
    "for i in range(20):\n",
    "  alpha = random.uniform(0, 1)\n",
    "  eta = random.uniform(0, 0.001)\n",
    "  t = random.randint(0, 100)\n",
    "  lr = LogisticRegression(alpha,t,eta)\n",
    "  lr.w =np.array(np.zeros(voice_X_train.shape[1]))\n",
    "  lr.w = np.reshape(lr.w,(-1,1))\n",
    "  loss = lr.train(voice_X_train, voice_y_train)\n",
    "  y_pred_val = np.array(np.zeros(voice_y_val.shape[0]))\n",
    "  y_pred_val = np.reshape(y_pred_val,(-1,1))\n",
    "  voice_y_pred_val = lr.predict(voice_X_val)\n",
    "  voice_y_pred_valArray = np.array(voice_y_pred_val);\n",
    "\n",
    "  #thresholding code from logistic regression\n",
    "  for index in range(len(voice_y_pred_valArray)):\n",
    "    if(voice_y_pred_valArray[index] > 0.5):\n",
    "        y_pred_val[index]=1\n",
    "    elif (voice_y_pred_valArray[index] <= 0.5):\n",
    "        y_pred_val[index]=0\n",
    "  print(\"Learning Rate\",eta)\n",
    "  print(\"Alpha\",alpha)\n",
    "  print(\"T=\",t)\n",
    "  print(\"Validation accuracy\", accuracy_score(voice_y_val, y_pred_val))\n",
    "  print(\"\\n\")"
   ]
  },
  {
   "cell_type": "code",
   "execution_count": null,
   "id": "c93de4f6",
   "metadata": {
    "id": "c93de4f6"
   },
   "outputs": [],
   "source": [
    "#Learning Rate 0.0009439296561552817\n",
    "#Alpha 0.3044447438904413\n",
    "#T= 84\n",
    "#Validation accuracy 0.9842271293375394\n",
    "\n",
    "eta = 0.0009\n",
    "alpha = 0.304\n",
    "t=84\n",
    "\n",
    "lr_tune = LogisticRegression(alpha,t,eta)\n",
    "lr_tune.w =np.array(np.zeros(voice_X_train.shape[1]))\n",
    "lr_tune.w = np.reshape(lr_tune.w,(-1,1))\n",
    "loss = lr_tune.train(voice_X_train, voice_y_train)"
   ]
  },
  {
   "cell_type": "code",
   "execution_count": null,
   "id": "505f66a9",
   "metadata": {
    "colab": {
     "base_uri": "https://localhost:8080/"
    },
    "id": "505f66a9",
    "outputId": "3fd1ab9b-c271-422d-b93a-0d21e2f248b4"
   },
   "outputs": [
    {
     "name": "stdout",
     "output_type": "stream",
     "text": [
      "Test Accuracy with base 0.9668769716088328\n",
      "Test Accuracy with tune parameters 0.9668769716088328\n"
     ]
    }
   ],
   "source": [
    "#test predictions\n",
    "\n",
    "y_pred_test = np.array(np.zeros(voice_y_test.shape[0]))\n",
    "y_pred_test = np.reshape(y_pred_test,(-1,1))\n",
    "voice_y_pred_test = lr_base.predict(voice_X_test)\n",
    "voice_y_pred_testArray = np.array(voice_y_pred_test);\n",
    "\n",
    "for index in range(len(voice_y_pred_testArray)):\n",
    "    if(voice_y_pred_testArray[index] > 0.5):\n",
    "        y_pred_test[index]=1\n",
    "    elif (voice_y_pred_testArray[index] <= 0.5):\n",
    "        y_pred_test[index]=0\n",
    "print(\"Test Accuracy with base\", accuracy_score(voice_y_test, y_pred_test))\n",
    "\n",
    "\n",
    "# test prediction with tune model\n",
    "\n",
    "y_pred_test = np.array(np.zeros(voice_y_test.shape[0]))\n",
    "y_pred_test = np.reshape(y_pred_test,(-1,1))\n",
    "voice_y_pred_test = lr_tune.predict(voice_X_test)\n",
    "voice_y_pred_testArray = np.array(voice_y_pred_test);\n",
    "\n",
    "for index in range(len(voice_y_pred_testArray)):\n",
    "    if(voice_y_pred_testArray[index] > 0.5):\n",
    "        y_pred_test[index]=1\n",
    "    elif (voice_y_pred_testArray[index] <= 0.5):\n",
    "        y_pred_test[index]=0\n",
    "print(\"Test Accuracy with tune parameters\", accuracy_score(voice_y_test, y_pred_test))"
   ]
  },
  {
   "cell_type": "markdown",
   "id": "a45754da",
   "metadata": {
    "id": "a45754da"
   },
   "source": [
    "# **2.7 Feature Importance**\n",
    "\n",
    "Interpret your trained model using a bar chart of the model weights. Make sure to label the bars (x-axis) and don't forget the bias term! "
   ]
  },
  {
   "cell_type": "code",
   "execution_count": null,
   "id": "5a0eda1c",
   "metadata": {
    "colab": {
     "base_uri": "https://localhost:8080/",
     "height": 623
    },
    "id": "5a0eda1c",
    "outputId": "7a20769e-9bcf-4a89-92f2-56610be70f03"
   },
   "outputs": [
    {
     "data": {
      "text/plain": [
       "Text(0, 0.5, 'Features')"
      ]
     },
     "execution_count": 74,
     "metadata": {},
     "output_type": "execute_result"
    },
    {
     "data": {
      "image/png": "[encoded data removed]",
      "text/plain": [
       "<Figure size 1152x720 with 1 Axes>"
      ]
     },
     "metadata": {
      "needs_background": "light"
     },
     "output_type": "display_data"
    }
   ],
   "source": [
    "#code here\n",
    "\n",
    "features = []\n",
    "features.append(\"bias\")\n",
    "for indx in range(len(voice_X.columns)):\n",
    "    features.append(voice_X.columns[indx])\n",
    "\n",
    "fig, axes = plt.subplots(1, 1, figsize=(16, 10))\n",
    "\n",
    "sns.barplot(ax=axes, y=features, x=(lr.w).flatten())\n",
    "axes.set_xlabel(\"Weights to Features\")\n",
    "axes.set_ylabel(\"Features\")"
   ]
  },
  {
   "cell_type": "markdown",
   "id": "1566f02d",
   "metadata": {
    "id": "1566f02d"
   },
   "source": [
    "\n",
    "# **Part 3: Support Vector Machines - with the same Dataset**"
   ]
  },
  {
   "cell_type": "markdown",
   "id": "b0433637",
   "metadata": {
    "id": "b0433637"
   },
   "source": [
    "**3.1 Dual SVM**\n",
    "\n",
    "A) Train a dual SVM (with default parameters) for both kernel=\"linear\" and kernel=\"rbf\") on the Voice Recognition training data. \n",
    "\n",
    "B) Make predictions and report the accuracy on the training, validation, and test sets. Which kernel gave better accuracy on test dataset and why do you think that was better? \n",
    "\n",
    "C) Please report the support vectors in both the cases and what do you observe? Explain."
   ]
  },
  {
   "cell_type": "code",
   "execution_count": null,
   "id": "db0f8a5a",
   "metadata": {
    "colab": {
     "base_uri": "https://localhost:8080/"
    },
    "id": "db0f8a5a",
    "outputId": "ed27aa2e-3696-46ba-f609-25861d7729d6"
   },
   "outputs": [
    {
     "name": "stdout",
     "output_type": "stream",
     "text": [
      "\n",
      "LINEAR KERNEL\n",
      "\n",
      "Training accuracy 0.9742105263157895\n",
      "Validation accuracy 0.9842271293375394\n",
      "Test accuracy 0.9700315457413249\n",
      "\n",
      "RBF KERNEL\n",
      "\n",
      "Training accuracy 0.9831578947368421\n",
      "Validation accuracy 0.9810725552050473\n",
      "Test accuracy 0.9842271293375394\n",
      "\n",
      "\n",
      "total number of support vectors for linear are= 164\n",
      "total number of support vectors for rbf are= 279\n"
     ]
    }
   ],
   "source": [
    "#code here\n",
    "\n",
    "from sklearn import svm\n",
    "\n",
    "print(\"\\nLINEAR KERNEL\\n\")\n",
    "\n",
    "clfLinear = svm.SVC(kernel='linear')\n",
    "clfLinear.fit(voice_X_train, voice_y_train.flatten())\n",
    "\n",
    "y_pred_train = clfLinear.predict(voice_X_train)\n",
    "print(\"Training accuracy\", accuracy_score(voice_y_train, y_pred_train))\n",
    "\n",
    "y_pred_val = clfLinear.predict(voice_X_val)\n",
    "print(\"Validation accuracy\", accuracy_score(voice_y_val, y_pred_val))\n",
    "\n",
    "y_pred_test = clfLinear.predict(voice_X_test)\n",
    "print(\"Test accuracy\", accuracy_score(voice_y_test, y_pred_test))\n",
    "\n",
    "print(\"\\nRBF KERNEL\\n\")\n",
    "\n",
    "clf = svm.SVC(kernel='rbf')\n",
    "clf.fit(voice_X_train, voice_y_train.flatten())\n",
    "\n",
    "y_pred_train = clf.predict(voice_X_train)\n",
    "print(\"Training accuracy\", accuracy_score(voice_y_train, y_pred_train))\n",
    "\n",
    "y_pred_val = clf.predict(voice_X_val)\n",
    "print(\"Validation accuracy\", accuracy_score(voice_y_val, y_pred_val))\n",
    "\n",
    "y_pred_test = clf.predict(voice_X_test)\n",
    "print(\"Test accuracy\", accuracy_score(voice_y_test, y_pred_test))\n",
    "\n",
    "print(\"\\n\")\n",
    "\n",
    "totalPoints = clfLinear.support_vectors_\n",
    "print(\"total number of support vectors for linear are=\", len(totalPoints))\n",
    "\n",
    "totalPoint_rbf = clf.support_vectors_\n",
    "print(\"total number of support vectors for rbf are=\", len(totalPoint_rbf))\n",
    "\n",
    "'''\n",
    " Rbf kernel had better accuracy, which could be because of the non-linear boundary between the classes, \n",
    "  which possibly resulted in better classifer\n",
    "\n",
    "  This can also cause the support vectors in case of rbf kernel to be more. \n",
    "'''"
   ]
  },
  {
   "cell_type": "markdown",
   "id": "6615fc91",
   "metadata": {
    "id": "6615fc91"
   },
   "source": [
    "**3.2 Using Kernel \"rbf\", tune the hyperparameter \"C\" using the Grid Search & k-fold cross validation. You may take k=5 and assume values in grid between 1 to 100 with interval range of your choice.**\n",
    "\n"
   ]
  },
  {
   "cell_type": "code",
   "execution_count": null,
   "id": "04b52231",
   "metadata": {
    "colab": {
     "base_uri": "https://localhost:8080/"
    },
    "id": "04b52231",
    "outputId": "15eeae9d-b260-4efe-e0da-38f49e3f83e0"
   },
   "outputs": [
    {
     "name": "stdout",
     "output_type": "stream",
     "text": [
      "[ 1 21 41 61 81]\n",
      "C= 1\n",
      "[0.99408284 0.97435897 0.96449704 0.98619329 0.98418972]\n",
      "Avg Score= 0.9806643746443078\n",
      "\n",
      "\n",
      "C= 21\n",
      "[0.98619329 0.97633136 0.96449704 0.98619329 0.98221344]\n",
      "Avg Score= 0.979085685774649\n",
      "\n",
      "\n",
      "C= 41\n",
      "[0.98422091 0.97830375 0.97238659 0.98422091 0.98221344]\n",
      "Avg Score= 0.9802691177273116\n",
      "\n",
      "\n",
      "C= 61\n",
      "[0.98224852 0.97830375 0.9704142  0.98224852 0.98023715]\n",
      "Avg Score= 0.978690428857653\n",
      "\n",
      "\n",
      "C= 81\n",
      "[0.97830375 0.97830375 0.9704142  0.98224852 0.98023715]\n",
      "Avg Score= 0.9779014742225444\n",
      "\n",
      "\n"
     ]
    }
   ],
   "source": [
    "#code here\n",
    "\n",
    "c_value= np.arange(1,100,20)\n",
    "print(c_value)\n",
    "      \n",
    "#k-fold cross validation  & hyper-parameter tuning\n",
    "# note we have 15 features left after dropping correlated columns \n",
    "\n",
    "features = ['meanfreq', 'sd', 'Q75', 'IQR', 'skew', 'sp.ent', 'sfm', 'mode',\n",
    "       'meanfun', 'minfun', 'maxfun', 'meandom', 'mindom', 'maxdom',\n",
    "       'modindx'] \n",
    "\n",
    "for val in c_value:\n",
    "  preprocess = make_column_transformer((StandardScaler(),features))\n",
    "  pipe = make_pipeline(preprocess,SVC(C=val,kernel='rbf'))\n",
    "  scores = cross_val_score(pipe,voice_X_dev, voice_y_dev.ravel(),cv=5)\n",
    "  print(\"C=\",val)\n",
    "  print(scores)\n",
    "  print(\"Avg Score=\", np.mean(scores))\n",
    "  print(\"\\n\")\n",
    "\n",
    "  #C=1 seems to perform better. "
   ]
  }
 ],
 "metadata": {
  "colab": {
   "collapsed_sections": [],
   "name": "AppliedML_HW1_Solutions.ipynb",
   "provenance": []
  },
  "kernelspec": {
   "display_name": "Python 3",
   "language": "python",
   "name": "python3"
  },
  "language_info": {
   "codemirror_mode": {
    "name": "ipython",
    "version": 3
   },
   "file_extension": ".py",
   "mimetype": "text/x-python",
   "name": "python",
   "nbconvert_exporter": "python",
   "pygments_lexer": "ipython3",
   "version": "3.8.8"
  }
 },
 "nbformat": 4,
 "nbformat_minor": 5
}
